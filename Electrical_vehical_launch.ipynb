{
 "cells": [
  {
   "cell_type": "code",
   "execution_count": 1,
   "id": "4ca2678d-9fe7-4e46-9791-e5524d92c553",
   "metadata": {},
   "outputs": [],
   "source": [
    "import pandas as pd\n",
    "import numpy as np\n",
    "import matplotlib.pyplot as plt\n",
    "import seaborn as sns"
   ]
  },
  {
   "cell_type": "code",
   "execution_count": 12,
   "id": "23ddda87-d046-40c3-92c1-faf02584b061",
   "metadata": {},
   "outputs": [],
   "source": [
    "cust=pd.read_csv(\"D:\\Krishna\\dataanalyticswithanand\\Dataset\\Electric vehicle launch\\C8_Input_Files\\dim_customers.csv\")"
   ]
  },
  {
   "cell_type": "code",
   "execution_count": 14,
   "id": "eaa62129-988c-4063-98f2-a65a84c48c4a",
   "metadata": {},
   "outputs": [
    {
     "data": {
      "text/html": [
       "<div>\n",
       "<style scoped>\n",
       "    .dataframe tbody tr th:only-of-type {\n",
       "        vertical-align: middle;\n",
       "    }\n",
       "\n",
       "    .dataframe tbody tr th {\n",
       "        vertical-align: top;\n",
       "    }\n",
       "\n",
       "    .dataframe thead th {\n",
       "        text-align: right;\n",
       "    }\n",
       "</style>\n",
       "<table border=\"1\" class=\"dataframe\">\n",
       "  <thead>\n",
       "    <tr style=\"text-align: right;\">\n",
       "      <th></th>\n",
       "      <th>customer_id</th>\n",
       "      <th>age_group</th>\n",
       "      <th>city</th>\n",
       "      <th>occupation</th>\n",
       "      <th>gender</th>\n",
       "      <th>marital status</th>\n",
       "      <th>avg_income</th>\n",
       "    </tr>\n",
       "  </thead>\n",
       "  <tbody>\n",
       "    <tr>\n",
       "      <th>0</th>\n",
       "      <td>ATQCUS1825</td>\n",
       "      <td>45+</td>\n",
       "      <td>Bengaluru</td>\n",
       "      <td>Salaried IT Employees</td>\n",
       "      <td>Male</td>\n",
       "      <td>Married</td>\n",
       "      <td>73523</td>\n",
       "    </tr>\n",
       "    <tr>\n",
       "      <th>1</th>\n",
       "      <td>ATQCUS0809</td>\n",
       "      <td>25-34</td>\n",
       "      <td>Hyderabad</td>\n",
       "      <td>Salaried Other Employees</td>\n",
       "      <td>Male</td>\n",
       "      <td>Married</td>\n",
       "      <td>39922</td>\n",
       "    </tr>\n",
       "    <tr>\n",
       "      <th>2</th>\n",
       "      <td>ATQCUS0663</td>\n",
       "      <td>25-34</td>\n",
       "      <td>Chennai</td>\n",
       "      <td>Salaried Other Employees</td>\n",
       "      <td>Male</td>\n",
       "      <td>Married</td>\n",
       "      <td>37702</td>\n",
       "    </tr>\n",
       "    <tr>\n",
       "      <th>3</th>\n",
       "      <td>ATQCUS0452</td>\n",
       "      <td>25-34</td>\n",
       "      <td>Delhi NCR</td>\n",
       "      <td>Government Employees</td>\n",
       "      <td>Male</td>\n",
       "      <td>Married</td>\n",
       "      <td>54090</td>\n",
       "    </tr>\n",
       "    <tr>\n",
       "      <th>4</th>\n",
       "      <td>ATQCUS3350</td>\n",
       "      <td>21-24</td>\n",
       "      <td>Bengaluru</td>\n",
       "      <td>Freelancers</td>\n",
       "      <td>Male</td>\n",
       "      <td>Single</td>\n",
       "      <td>28376</td>\n",
       "    </tr>\n",
       "  </tbody>\n",
       "</table>\n",
       "</div>"
      ],
      "text/plain": [
       "  customer_id age_group       city                occupation gender  \\\n",
       "0  ATQCUS1825       45+  Bengaluru     Salaried IT Employees   Male   \n",
       "1  ATQCUS0809     25-34  Hyderabad  Salaried Other Employees   Male   \n",
       "2  ATQCUS0663     25-34    Chennai  Salaried Other Employees   Male   \n",
       "3  ATQCUS0452     25-34  Delhi NCR      Government Employees   Male   \n",
       "4  ATQCUS3350     21-24  Bengaluru               Freelancers   Male   \n",
       "\n",
       "  marital status  avg_income  \n",
       "0        Married       73523  \n",
       "1        Married       39922  \n",
       "2        Married       37702  \n",
       "3        Married       54090  \n",
       "4         Single       28376  "
      ]
     },
     "execution_count": 14,
     "metadata": {},
     "output_type": "execute_result"
    }
   ],
   "source": [
    "cust.head()"
   ]
  },
  {
   "cell_type": "code",
   "execution_count": 8,
   "id": "09b1744d-c923-4664-a64a-6ae03818cfae",
   "metadata": {},
   "outputs": [],
   "source": [
    "spend=pd.read_csv(r\"D:\\Krishna\\dataanalyticswithanand\\Dataset\\Electric vehicle launch\\C8_Input_Files\\fact_spends.csv\")"
   ]
  },
  {
   "cell_type": "code",
   "execution_count": 9,
   "id": "4e263567-fdaa-4647-ba68-ae489bf1b102",
   "metadata": {},
   "outputs": [
    {
     "data": {
      "text/html": [
       "<div>\n",
       "<style scoped>\n",
       "    .dataframe tbody tr th:only-of-type {\n",
       "        vertical-align: middle;\n",
       "    }\n",
       "\n",
       "    .dataframe tbody tr th {\n",
       "        vertical-align: top;\n",
       "    }\n",
       "\n",
       "    .dataframe thead th {\n",
       "        text-align: right;\n",
       "    }\n",
       "</style>\n",
       "<table border=\"1\" class=\"dataframe\">\n",
       "  <thead>\n",
       "    <tr style=\"text-align: right;\">\n",
       "      <th></th>\n",
       "      <th>customer_id</th>\n",
       "      <th>month</th>\n",
       "      <th>category</th>\n",
       "      <th>payment_type</th>\n",
       "      <th>spend</th>\n",
       "    </tr>\n",
       "  </thead>\n",
       "  <tbody>\n",
       "    <tr>\n",
       "      <th>0</th>\n",
       "      <td>ATQCUS1371</td>\n",
       "      <td>July</td>\n",
       "      <td>Health &amp; Wellness</td>\n",
       "      <td>Credit Card</td>\n",
       "      <td>1114</td>\n",
       "    </tr>\n",
       "    <tr>\n",
       "      <th>1</th>\n",
       "      <td>ATQCUS0368</td>\n",
       "      <td>October</td>\n",
       "      <td>Groceries</td>\n",
       "      <td>Credit Card</td>\n",
       "      <td>1466</td>\n",
       "    </tr>\n",
       "    <tr>\n",
       "      <th>2</th>\n",
       "      <td>ATQCUS0595</td>\n",
       "      <td>May</td>\n",
       "      <td>Health &amp; Wellness</td>\n",
       "      <td>Credit Card</td>\n",
       "      <td>387</td>\n",
       "    </tr>\n",
       "    <tr>\n",
       "      <th>3</th>\n",
       "      <td>ATQCUS0667</td>\n",
       "      <td>October</td>\n",
       "      <td>Electronics</td>\n",
       "      <td>Credit Card</td>\n",
       "      <td>1137</td>\n",
       "    </tr>\n",
       "    <tr>\n",
       "      <th>4</th>\n",
       "      <td>ATQCUS3477</td>\n",
       "      <td>September</td>\n",
       "      <td>Bills</td>\n",
       "      <td>UPI</td>\n",
       "      <td>2102</td>\n",
       "    </tr>\n",
       "  </tbody>\n",
       "</table>\n",
       "</div>"
      ],
      "text/plain": [
       "  customer_id      month           category payment_type  spend\n",
       "0  ATQCUS1371       July  Health & Wellness  Credit Card   1114\n",
       "1  ATQCUS0368    October          Groceries  Credit Card   1466\n",
       "2  ATQCUS0595        May  Health & Wellness  Credit Card    387\n",
       "3  ATQCUS0667    October        Electronics  Credit Card   1137\n",
       "4  ATQCUS3477  September              Bills          UPI   2102"
      ]
     },
     "execution_count": 9,
     "metadata": {},
     "output_type": "execute_result"
    }
   ],
   "source": [
    "spend.head()"
   ]
  },
  {
   "cell_type": "code",
   "execution_count": 15,
   "id": "d0b902a2-b1ff-4a72-8961-40a2191d199c",
   "metadata": {},
   "outputs": [
    {
     "data": {
      "text/plain": [
       "(4000, 7)"
      ]
     },
     "execution_count": 15,
     "metadata": {},
     "output_type": "execute_result"
    }
   ],
   "source": [
    "cust.shape"
   ]
  },
  {
   "cell_type": "code",
   "execution_count": 16,
   "id": "ccbeb1b9-d128-42fe-b32b-e6562ab984be",
   "metadata": {},
   "outputs": [
    {
     "data": {
      "text/plain": [
       "(864000, 5)"
      ]
     },
     "execution_count": 16,
     "metadata": {},
     "output_type": "execute_result"
    }
   ],
   "source": [
    "spend.shape"
   ]
  },
  {
   "cell_type": "code",
   "execution_count": 17,
   "id": "987d58d1-1a67-4186-a4a6-a5a61ccbff41",
   "metadata": {},
   "outputs": [
    {
     "data": {
      "text/plain": [
       "customer_id       0\n",
       "age_group         0\n",
       "city              0\n",
       "occupation        0\n",
       "gender            0\n",
       "marital status    0\n",
       "avg_income        0\n",
       "dtype: int64"
      ]
     },
     "execution_count": 17,
     "metadata": {},
     "output_type": "execute_result"
    }
   ],
   "source": [
    "cust.isnull().sum()"
   ]
  },
  {
   "cell_type": "code",
   "execution_count": 18,
   "id": "355a0b82-a2d1-4e7e-a67b-cbc91ad1082e",
   "metadata": {},
   "outputs": [
    {
     "data": {
      "text/plain": [
       "customer_id     0\n",
       "month           0\n",
       "category        0\n",
       "payment_type    0\n",
       "spend           0\n",
       "dtype: int64"
      ]
     },
     "execution_count": 18,
     "metadata": {},
     "output_type": "execute_result"
    }
   ],
   "source": [
    "spend.isnull().sum()"
   ]
  },
  {
   "cell_type": "code",
   "execution_count": 20,
   "id": "f6c88db4-573c-4696-a22b-ac65fe50889d",
   "metadata": {},
   "outputs": [
    {
     "data": {
      "text/plain": [
       "0"
      ]
     },
     "execution_count": 20,
     "metadata": {},
     "output_type": "execute_result"
    }
   ],
   "source": [
    "cust.duplicated().sum()"
   ]
  },
  {
   "cell_type": "code",
   "execution_count": 21,
   "id": "f65e5096-d18c-4d1d-8919-4999ea7ac1bb",
   "metadata": {},
   "outputs": [
    {
     "data": {
      "text/plain": [
       "0"
      ]
     },
     "execution_count": 21,
     "metadata": {},
     "output_type": "execute_result"
    }
   ],
   "source": [
    "spend.duplicated().sum()"
   ]
  },
  {
   "cell_type": "code",
   "execution_count": 22,
   "id": "548bc912-f2d8-4500-8ae1-71b3936d8e71",
   "metadata": {},
   "outputs": [
    {
     "data": {
      "text/plain": [
       "Index(['customer_id', 'age_group', 'city', 'occupation', 'gender',\n",
       "       'marital status', 'avg_income'],\n",
       "      dtype='object')"
      ]
     },
     "execution_count": 22,
     "metadata": {},
     "output_type": "execute_result"
    }
   ],
   "source": [
    "cust.columns"
   ]
  },
  {
   "cell_type": "code",
   "execution_count": 23,
   "id": "572ade73-eaa1-4b78-b056-258ce2f985f3",
   "metadata": {},
   "outputs": [
    {
     "data": {
      "text/plain": [
       "Index(['customer_id', 'month', 'category', 'payment_type', 'spend'], dtype='object')"
      ]
     },
     "execution_count": 23,
     "metadata": {},
     "output_type": "execute_result"
    }
   ],
   "source": [
    "spend.columns"
   ]
  },
  {
   "cell_type": "markdown",
   "id": "f5d6ec73-3cf9-4324-b696-6d7c1ecf2ac8",
   "metadata": {},
   "source": [
    "<h3>Demographic Classification</h3>"
   ]
  },
  {
   "cell_type": "code",
   "execution_count": 258,
   "id": "e676e4ec-b506-40ab-8890-f75c422ee0e1",
   "metadata": {},
   "outputs": [
    {
     "data": {
      "image/png": "[encoded data removed]",
      "text/plain": [
       "<Figure size 640x480 with 1 Axes>"
      ]
     },
     "metadata": {},
     "output_type": "display_data"
    }
   ],
   "source": [
    "cust['age_group'].value_counts()\n",
    "ax=sns.countplot(data=cust,x='age_group')\n",
    "for bars in ax.containers:\n",
    "    ax.bar_label(bars)\n",
    "    "
   ]
  },
  {
   "cell_type": "code",
   "execution_count": 259,
   "id": "d4e1d6c3-f199-49a6-af49-12f91120032d",
   "metadata": {},
   "outputs": [
    {
     "data": {
      "image/png": "[encoded data removed]",
      "text/plain": [
       "<Figure size 640x480 with 1 Axes>"
      ]
     },
     "metadata": {},
     "output_type": "display_data"
    }
   ],
   "source": [
    "cust['city'].value_counts()\n",
    "ax=sns.countplot(data=cust,x='city')\n",
    "for bars in ax.containers:\n",
    "    ax.bar_label(bars)"
   ]
  },
  {
   "cell_type": "code",
   "execution_count": 269,
   "id": "bfe20764-6269-4da8-8add-f169478455d7",
   "metadata": {},
   "outputs": [
    {
     "data": {
      "image/png": "[encoded data removed]",
      "text/plain": [
       "<Figure size 1500x500 with 1 Axes>"
      ]
     },
     "metadata": {},
     "output_type": "display_data"
    }
   ],
   "source": [
    "cust['occupation'].value_counts()\n",
    "plt.figure(figsize=(15,5))\n",
    "ax=sns.countplot(data=cust,x='occupation')\n",
    "\n",
    "for bars in ax.containers:\n",
    "    ax.bar_label(bars)"
   ]
  },
  {
   "cell_type": "code",
   "execution_count": 27,
   "id": "71a4cb7e-00ed-4194-98a0-639bbe23af02",
   "metadata": {},
   "outputs": [
    {
     "data": {
      "text/plain": [
       "gender\n",
       "Male      2597\n",
       "Female    1403\n",
       "Name: count, dtype: int64"
      ]
     },
     "execution_count": 27,
     "metadata": {},
     "output_type": "execute_result"
    }
   ],
   "source": [
    "cust['gender'].value_counts()"
   ]
  },
  {
   "cell_type": "code",
   "execution_count": 28,
   "id": "a990f75a-773d-4a43-b610-ce32db0baee1",
   "metadata": {},
   "outputs": [
    {
     "data": {
      "text/plain": [
       "marital status\n",
       "Married    3136\n",
       "Single      864\n",
       "Name: count, dtype: int64"
      ]
     },
     "execution_count": 28,
     "metadata": {},
     "output_type": "execute_result"
    }
   ],
   "source": [
    "cust['marital status'].value_counts()"
   ]
  },
  {
   "cell_type": "code",
   "execution_count": 33,
   "id": "fa1926f9-eaa2-45a9-922e-d189cad1d66a",
   "metadata": {},
   "outputs": [
    {
     "data": {
      "text/plain": [
       "gender\n",
       "Male      134092010\n",
       "Female     72536119\n",
       "Name: avg_income, dtype: int64"
      ]
     },
     "execution_count": 33,
     "metadata": {},
     "output_type": "execute_result"
    }
   ],
   "source": [
    "# Average income by gender wise\n",
    "cust.groupby(['gender'])['avg_income'].sum().sort_values(ascending=False)"
   ]
  },
  {
   "cell_type": "code",
   "execution_count": 296,
   "id": "69a1ae88-108c-48cf-9cf7-b24e60057dc4",
   "metadata": {},
   "outputs": [
    {
     "data": {
      "text/plain": [
       "age_group\n",
       "25-34    77636972\n",
       "35-45    68011240\n",
       "45+      32843591\n",
       "21-24    28136326\n",
       "Name: avg_income, dtype: int64"
      ]
     },
     "execution_count": 296,
     "metadata": {},
     "output_type": "execute_result"
    }
   ],
   "source": [
    "# Average income by age_group\n",
    "cust.groupby(['age_group'])['avg_income'].sum().sort_values(ascending=False)"
   ]
  },
  {
   "cell_type": "markdown",
   "id": "dccef4c7-15ad-4caa-abaa-4d1b8e53c494",
   "metadata": {},
   "source": [
    "<h3>Highest average income group is 25-34, while Lowest Average income group is 21-24</h3>"
   ]
  },
  {
   "cell_type": "markdown",
   "id": "a2c02699-fcea-4ecc-bec3-a9e3ef73bf75",
   "metadata": {},
   "source": [
    "<h3>Average income of male are more than female</h3>"
   ]
  },
  {
   "cell_type": "code",
   "execution_count": 34,
   "id": "a00349fc-3926-42e3-ab6a-45be9d1c251e",
   "metadata": {},
   "outputs": [
    {
     "data": {
      "text/plain": [
       "marital status\n",
       "Married    167200590\n",
       "Single      39427539\n",
       "Name: avg_income, dtype: int64"
      ]
     },
     "execution_count": 34,
     "metadata": {},
     "output_type": "execute_result"
    }
   ],
   "source": [
    "#Average income Marital status wise\n",
    "cust.groupby(['marital status'])['avg_income'].sum().sort_values(ascending=False)"
   ]
  },
  {
   "cell_type": "markdown",
   "id": "7b0691d5-c230-4a52-9522-9234ad9561e1",
   "metadata": {},
   "source": [
    "<h3>Average income of married people are more than Single</h3>"
   ]
  },
  {
   "cell_type": "code",
   "execution_count": 35,
   "id": "436d74b5-15f4-41bc-a49c-0c24105881e2",
   "metadata": {},
   "outputs": [
    {
     "data": {
      "text/plain": [
       "occupation\n",
       "Salaried IT Employees       79580577\n",
       "Business Owners             44157443\n",
       "Salaried Other Employees    34642539\n",
       "Freelancers                 27485671\n",
       "Government Employees        20761899\n",
       "Name: avg_income, dtype: int64"
      ]
     },
     "execution_count": 35,
     "metadata": {},
     "output_type": "execute_result"
    }
   ],
   "source": [
    "#Average income by Occupation wise\n",
    "cust.groupby(['occupation'])['avg_income'].sum().sort_values(ascending=False)"
   ]
  },
  {
   "cell_type": "markdown",
   "id": "51914e17-2c4b-46c4-8eea-852382517294",
   "metadata": {},
   "source": [
    "<h3>Average income of IT Employees are more than other occupation</h3>"
   ]
  },
  {
   "cell_type": "code",
   "execution_count": 46,
   "id": "13e6aa1a-ed6f-47dc-ac3d-da5739b63263",
   "metadata": {},
   "outputs": [
    {
     "data": {
      "text/html": [
       "<div>\n",
       "<style scoped>\n",
       "    .dataframe tbody tr th:only-of-type {\n",
       "        vertical-align: middle;\n",
       "    }\n",
       "\n",
       "    .dataframe tbody tr th {\n",
       "        vertical-align: top;\n",
       "    }\n",
       "\n",
       "    .dataframe thead th {\n",
       "        text-align: right;\n",
       "    }\n",
       "</style>\n",
       "<table border=\"1\" class=\"dataframe\">\n",
       "  <thead>\n",
       "    <tr style=\"text-align: right;\">\n",
       "      <th></th>\n",
       "      <th>occupation</th>\n",
       "      <th>gender</th>\n",
       "      <th>avg_income</th>\n",
       "    </tr>\n",
       "  </thead>\n",
       "  <tbody>\n",
       "    <tr>\n",
       "      <th>9</th>\n",
       "      <td>Salaried Other Employees</td>\n",
       "      <td>Male</td>\n",
       "      <td>21016335</td>\n",
       "    </tr>\n",
       "    <tr>\n",
       "      <th>8</th>\n",
       "      <td>Salaried Other Employees</td>\n",
       "      <td>Female</td>\n",
       "      <td>13626204</td>\n",
       "    </tr>\n",
       "    <tr>\n",
       "      <th>7</th>\n",
       "      <td>Salaried IT Employees</td>\n",
       "      <td>Male</td>\n",
       "      <td>44483320</td>\n",
       "    </tr>\n",
       "    <tr>\n",
       "      <th>6</th>\n",
       "      <td>Salaried IT Employees</td>\n",
       "      <td>Female</td>\n",
       "      <td>35097257</td>\n",
       "    </tr>\n",
       "    <tr>\n",
       "      <th>5</th>\n",
       "      <td>Government Employees</td>\n",
       "      <td>Male</td>\n",
       "      <td>12848911</td>\n",
       "    </tr>\n",
       "    <tr>\n",
       "      <th>4</th>\n",
       "      <td>Government Employees</td>\n",
       "      <td>Female</td>\n",
       "      <td>7912988</td>\n",
       "    </tr>\n",
       "    <tr>\n",
       "      <th>3</th>\n",
       "      <td>Freelancers</td>\n",
       "      <td>Male</td>\n",
       "      <td>20480838</td>\n",
       "    </tr>\n",
       "    <tr>\n",
       "      <th>2</th>\n",
       "      <td>Freelancers</td>\n",
       "      <td>Female</td>\n",
       "      <td>7004833</td>\n",
       "    </tr>\n",
       "    <tr>\n",
       "      <th>1</th>\n",
       "      <td>Business Owners</td>\n",
       "      <td>Male</td>\n",
       "      <td>35262606</td>\n",
       "    </tr>\n",
       "    <tr>\n",
       "      <th>0</th>\n",
       "      <td>Business Owners</td>\n",
       "      <td>Female</td>\n",
       "      <td>8894837</td>\n",
       "    </tr>\n",
       "  </tbody>\n",
       "</table>\n",
       "</div>"
      ],
      "text/plain": [
       "                 occupation  gender  avg_income\n",
       "9  Salaried Other Employees    Male    21016335\n",
       "8  Salaried Other Employees  Female    13626204\n",
       "7     Salaried IT Employees    Male    44483320\n",
       "6     Salaried IT Employees  Female    35097257\n",
       "5      Government Employees    Male    12848911\n",
       "4      Government Employees  Female     7912988\n",
       "3               Freelancers    Male    20480838\n",
       "2               Freelancers  Female     7004833\n",
       "1           Business Owners    Male    35262606\n",
       "0           Business Owners  Female     8894837"
      ]
     },
     "execution_count": 46,
     "metadata": {},
     "output_type": "execute_result"
    }
   ],
   "source": [
    "#Average income by Occupation and gender\n",
    "cust.groupby(['occupation','gender'],as_index=False)['avg_income'].sum().sort_values(by=['occupation','avg_income'],ascending=False)"
   ]
  },
  {
   "cell_type": "markdown",
   "id": "9edcbacd-329e-4cea-acf2-d297604fcd4d",
   "metadata": {},
   "source": [
    "<h3>Average income of Male are higher compared to female employees in every occupations</h3>"
   ]
  },
  {
   "cell_type": "code",
   "execution_count": 47,
   "id": "852d1757-7ea7-478a-b663-2372a7f03152",
   "metadata": {},
   "outputs": [
    {
     "data": {
      "text/html": [
       "<div>\n",
       "<style scoped>\n",
       "    .dataframe tbody tr th:only-of-type {\n",
       "        vertical-align: middle;\n",
       "    }\n",
       "\n",
       "    .dataframe tbody tr th {\n",
       "        vertical-align: top;\n",
       "    }\n",
       "\n",
       "    .dataframe thead th {\n",
       "        text-align: right;\n",
       "    }\n",
       "</style>\n",
       "<table border=\"1\" class=\"dataframe\">\n",
       "  <thead>\n",
       "    <tr style=\"text-align: right;\">\n",
       "      <th></th>\n",
       "      <th>occupation</th>\n",
       "      <th>marital status</th>\n",
       "      <th>avg_income</th>\n",
       "    </tr>\n",
       "  </thead>\n",
       "  <tbody>\n",
       "    <tr>\n",
       "      <th>8</th>\n",
       "      <td>Salaried Other Employees</td>\n",
       "      <td>Married</td>\n",
       "      <td>27907277</td>\n",
       "    </tr>\n",
       "    <tr>\n",
       "      <th>9</th>\n",
       "      <td>Salaried Other Employees</td>\n",
       "      <td>Single</td>\n",
       "      <td>6735262</td>\n",
       "    </tr>\n",
       "    <tr>\n",
       "      <th>6</th>\n",
       "      <td>Salaried IT Employees</td>\n",
       "      <td>Married</td>\n",
       "      <td>63245893</td>\n",
       "    </tr>\n",
       "    <tr>\n",
       "      <th>7</th>\n",
       "      <td>Salaried IT Employees</td>\n",
       "      <td>Single</td>\n",
       "      <td>16334684</td>\n",
       "    </tr>\n",
       "    <tr>\n",
       "      <th>4</th>\n",
       "      <td>Government Employees</td>\n",
       "      <td>Married</td>\n",
       "      <td>17111851</td>\n",
       "    </tr>\n",
       "    <tr>\n",
       "      <th>5</th>\n",
       "      <td>Government Employees</td>\n",
       "      <td>Single</td>\n",
       "      <td>3650048</td>\n",
       "    </tr>\n",
       "    <tr>\n",
       "      <th>2</th>\n",
       "      <td>Freelancers</td>\n",
       "      <td>Married</td>\n",
       "      <td>22439051</td>\n",
       "    </tr>\n",
       "    <tr>\n",
       "      <th>3</th>\n",
       "      <td>Freelancers</td>\n",
       "      <td>Single</td>\n",
       "      <td>5046620</td>\n",
       "    </tr>\n",
       "    <tr>\n",
       "      <th>0</th>\n",
       "      <td>Business Owners</td>\n",
       "      <td>Married</td>\n",
       "      <td>36496518</td>\n",
       "    </tr>\n",
       "    <tr>\n",
       "      <th>1</th>\n",
       "      <td>Business Owners</td>\n",
       "      <td>Single</td>\n",
       "      <td>7660925</td>\n",
       "    </tr>\n",
       "  </tbody>\n",
       "</table>\n",
       "</div>"
      ],
      "text/plain": [
       "                 occupation marital status  avg_income\n",
       "8  Salaried Other Employees        Married    27907277\n",
       "9  Salaried Other Employees         Single     6735262\n",
       "6     Salaried IT Employees        Married    63245893\n",
       "7     Salaried IT Employees         Single    16334684\n",
       "4      Government Employees        Married    17111851\n",
       "5      Government Employees         Single     3650048\n",
       "2               Freelancers        Married    22439051\n",
       "3               Freelancers         Single     5046620\n",
       "0           Business Owners        Married    36496518\n",
       "1           Business Owners         Single     7660925"
      ]
     },
     "execution_count": 47,
     "metadata": {},
     "output_type": "execute_result"
    }
   ],
   "source": [
    "#Average income occupation and marital status wise\n",
    "cust.groupby(['occupation','marital status'],as_index=False)['avg_income'].sum().sort_values(by=['occupation','avg_income'],ascending=False)"
   ]
  },
  {
   "cell_type": "code",
   "execution_count": 52,
   "id": "8df25ffd-6ef7-40c7-9d2e-5bbeb618f3fe",
   "metadata": {},
   "outputs": [
    {
     "data": {
      "text/html": [
       "<div>\n",
       "<style scoped>\n",
       "    .dataframe tbody tr th:only-of-type {\n",
       "        vertical-align: middle;\n",
       "    }\n",
       "\n",
       "    .dataframe tbody tr th {\n",
       "        vertical-align: top;\n",
       "    }\n",
       "\n",
       "    .dataframe thead th {\n",
       "        text-align: right;\n",
       "    }\n",
       "</style>\n",
       "<table border=\"1\" class=\"dataframe\">\n",
       "  <thead>\n",
       "    <tr style=\"text-align: right;\">\n",
       "      <th></th>\n",
       "      <th>occupation</th>\n",
       "      <th>avg_income</th>\n",
       "    </tr>\n",
       "  </thead>\n",
       "  <tbody>\n",
       "    <tr>\n",
       "      <th>3</th>\n",
       "      <td>Salaried IT Employees</td>\n",
       "      <td>79580577</td>\n",
       "    </tr>\n",
       "    <tr>\n",
       "      <th>0</th>\n",
       "      <td>Business Owners</td>\n",
       "      <td>44157443</td>\n",
       "    </tr>\n",
       "    <tr>\n",
       "      <th>4</th>\n",
       "      <td>Salaried Other Employees</td>\n",
       "      <td>34642539</td>\n",
       "    </tr>\n",
       "  </tbody>\n",
       "</table>\n",
       "</div>"
      ],
      "text/plain": [
       "                 occupation  avg_income\n",
       "3     Salaried IT Employees    79580577\n",
       "0           Business Owners    44157443\n",
       "4  Salaried Other Employees    34642539"
      ]
     },
     "execution_count": 52,
     "metadata": {},
     "output_type": "execute_result"
    }
   ],
   "source": [
    "#Highest Top 3 Occupation Avg income wise\n",
    "cust.groupby(['occupation'],as_index=False)['avg_income'].sum().sort_values(by='avg_income',ascending=False).head(3)"
   ]
  },
  {
   "cell_type": "markdown",
   "id": "cb780124-9ac8-44e9-8205-e328d91baede",
   "metadata": {},
   "source": [
    "<h3>Top 3 Occupation for average income are It Employees, Business Owners and Other employees</h3>"
   ]
  },
  {
   "cell_type": "code",
   "execution_count": 187,
   "id": "e6a9d127-0b57-4432-9912-2b7e4456b9e2",
   "metadata": {},
   "outputs": [
    {
     "data": {
      "text/html": [
       "<div>\n",
       "<style scoped>\n",
       "    .dataframe tbody tr th:only-of-type {\n",
       "        vertical-align: middle;\n",
       "    }\n",
       "\n",
       "    .dataframe tbody tr th {\n",
       "        vertical-align: top;\n",
       "    }\n",
       "\n",
       "    .dataframe thead th {\n",
       "        text-align: right;\n",
       "    }\n",
       "</style>\n",
       "<table border=\"1\" class=\"dataframe\">\n",
       "  <thead>\n",
       "    <tr style=\"text-align: right;\">\n",
       "      <th></th>\n",
       "      <th>occupation</th>\n",
       "      <th>age_group</th>\n",
       "      <th>avg_income</th>\n",
       "    </tr>\n",
       "  </thead>\n",
       "  <tbody>\n",
       "    <tr>\n",
       "      <th>13</th>\n",
       "      <td>Salaried IT Employees</td>\n",
       "      <td>25-34</td>\n",
       "      <td>28613901</td>\n",
       "    </tr>\n",
       "    <tr>\n",
       "      <th>14</th>\n",
       "      <td>Salaried IT Employees</td>\n",
       "      <td>35-45</td>\n",
       "      <td>27742513</td>\n",
       "    </tr>\n",
       "    <tr>\n",
       "      <th>1</th>\n",
       "      <td>Business Owners</td>\n",
       "      <td>25-34</td>\n",
       "      <td>16473028</td>\n",
       "    </tr>\n",
       "  </tbody>\n",
       "</table>\n",
       "</div>"
      ],
      "text/plain": [
       "               occupation age_group  avg_income\n",
       "13  Salaried IT Employees     25-34    28613901\n",
       "14  Salaried IT Employees     35-45    27742513\n",
       "1         Business Owners     25-34    16473028"
      ]
     },
     "execution_count": 187,
     "metadata": {},
     "output_type": "execute_result"
    }
   ],
   "source": [
    "#highest average income by occupation and age_group\n",
    "cust.groupby(['occupation','age_group'],as_index=False)['avg_income'].sum().sort_values(by='avg_income',ascending =False).head(3)"
   ]
  },
  {
   "cell_type": "markdown",
   "id": "ae568e33-f5d5-4657-9ccf-48c9e5430697",
   "metadata": {},
   "source": [
    "<h3>Top 3 Highest Occupation and age group for average income are It Employees of age group 25-34 and 35-45, and Business Owners of age group 25-34</h3>"
   ]
  },
  {
   "cell_type": "code",
   "execution_count": 193,
   "id": "3d74a367-b747-40ca-bfb2-c7973795db8c",
   "metadata": {},
   "outputs": [
    {
     "data": {
      "text/html": [
       "<div>\n",
       "<style scoped>\n",
       "    .dataframe tbody tr th:only-of-type {\n",
       "        vertical-align: middle;\n",
       "    }\n",
       "\n",
       "    .dataframe tbody tr th {\n",
       "        vertical-align: top;\n",
       "    }\n",
       "\n",
       "    .dataframe thead th {\n",
       "        text-align: right;\n",
       "    }\n",
       "</style>\n",
       "<table border=\"1\" class=\"dataframe\">\n",
       "  <thead>\n",
       "    <tr style=\"text-align: right;\">\n",
       "      <th></th>\n",
       "      <th>occupation</th>\n",
       "      <th>age_group</th>\n",
       "      <th>avg_income</th>\n",
       "    </tr>\n",
       "  </thead>\n",
       "  <tbody>\n",
       "    <tr>\n",
       "      <th>8</th>\n",
       "      <td>Government Employees</td>\n",
       "      <td>21-24</td>\n",
       "      <td>2671885</td>\n",
       "    </tr>\n",
       "    <tr>\n",
       "      <th>4</th>\n",
       "      <td>Freelancers</td>\n",
       "      <td>21-24</td>\n",
       "      <td>3007343</td>\n",
       "    </tr>\n",
       "    <tr>\n",
       "      <th>11</th>\n",
       "      <td>Government Employees</td>\n",
       "      <td>45+</td>\n",
       "      <td>3022540</td>\n",
       "    </tr>\n",
       "  </tbody>\n",
       "</table>\n",
       "</div>"
      ],
      "text/plain": [
       "              occupation age_group  avg_income\n",
       "8   Government Employees     21-24     2671885\n",
       "4            Freelancers     21-24     3007343\n",
       "11  Government Employees       45+     3022540"
      ]
     },
     "execution_count": 193,
     "metadata": {},
     "output_type": "execute_result"
    }
   ],
   "source": [
    "#Lowest average income by occupation and age_group\n",
    "cust.groupby(['occupation','age_group'],as_index=False)['avg_income'].sum().sort_values(by='avg_income',ascending =True).head(3)"
   ]
  },
  {
   "cell_type": "markdown",
   "id": "0e25ee9b-fe7d-4f38-b7dc-8f3dbd0b6c86",
   "metadata": {},
   "source": [
    "<h3>lowest average incomes are observed in Government Employees among 21-24. \n",
    "Younger workers in Government Employees roles face significant income challenges compared to their older,\n",
    "more experienced counterparts.</h3>"
   ]
  },
  {
   "cell_type": "code",
   "execution_count": 56,
   "id": "021699c7-94a3-4414-a624-1ba6a792cf4c",
   "metadata": {},
   "outputs": [],
   "source": [
    "#Join two tables\n",
    "cust_spend=pd.merge(cust,spend, on='customer_id',how='inner')"
   ]
  },
  {
   "cell_type": "code",
   "execution_count": 57,
   "id": "1c7e1f6d-871b-40db-82a2-9a40d9637919",
   "metadata": {},
   "outputs": [
    {
     "data": {
      "text/html": [
       "<div>\n",
       "<style scoped>\n",
       "    .dataframe tbody tr th:only-of-type {\n",
       "        vertical-align: middle;\n",
       "    }\n",
       "\n",
       "    .dataframe tbody tr th {\n",
       "        vertical-align: top;\n",
       "    }\n",
       "\n",
       "    .dataframe thead th {\n",
       "        text-align: right;\n",
       "    }\n",
       "</style>\n",
       "<table border=\"1\" class=\"dataframe\">\n",
       "  <thead>\n",
       "    <tr style=\"text-align: right;\">\n",
       "      <th></th>\n",
       "      <th>customer_id</th>\n",
       "      <th>age_group</th>\n",
       "      <th>city</th>\n",
       "      <th>occupation</th>\n",
       "      <th>gender</th>\n",
       "      <th>marital status</th>\n",
       "      <th>avg_income</th>\n",
       "      <th>month</th>\n",
       "      <th>category</th>\n",
       "      <th>payment_type</th>\n",
       "      <th>spend</th>\n",
       "    </tr>\n",
       "  </thead>\n",
       "  <tbody>\n",
       "    <tr>\n",
       "      <th>0</th>\n",
       "      <td>ATQCUS1825</td>\n",
       "      <td>45+</td>\n",
       "      <td>Bengaluru</td>\n",
       "      <td>Salaried IT Employees</td>\n",
       "      <td>Male</td>\n",
       "      <td>Married</td>\n",
       "      <td>73523</td>\n",
       "      <td>May</td>\n",
       "      <td>Electronics</td>\n",
       "      <td>Net Banking</td>\n",
       "      <td>405</td>\n",
       "    </tr>\n",
       "    <tr>\n",
       "      <th>1</th>\n",
       "      <td>ATQCUS1825</td>\n",
       "      <td>45+</td>\n",
       "      <td>Bengaluru</td>\n",
       "      <td>Salaried IT Employees</td>\n",
       "      <td>Male</td>\n",
       "      <td>Married</td>\n",
       "      <td>73523</td>\n",
       "      <td>May</td>\n",
       "      <td>Groceries</td>\n",
       "      <td>Debit Card</td>\n",
       "      <td>1096</td>\n",
       "    </tr>\n",
       "    <tr>\n",
       "      <th>2</th>\n",
       "      <td>ATQCUS1825</td>\n",
       "      <td>45+</td>\n",
       "      <td>Bengaluru</td>\n",
       "      <td>Salaried IT Employees</td>\n",
       "      <td>Male</td>\n",
       "      <td>Married</td>\n",
       "      <td>73523</td>\n",
       "      <td>June</td>\n",
       "      <td>Bills</td>\n",
       "      <td>Credit Card</td>\n",
       "      <td>2765</td>\n",
       "    </tr>\n",
       "    <tr>\n",
       "      <th>3</th>\n",
       "      <td>ATQCUS1825</td>\n",
       "      <td>45+</td>\n",
       "      <td>Bengaluru</td>\n",
       "      <td>Salaried IT Employees</td>\n",
       "      <td>Male</td>\n",
       "      <td>Married</td>\n",
       "      <td>73523</td>\n",
       "      <td>September</td>\n",
       "      <td>Apparel</td>\n",
       "      <td>Debit Card</td>\n",
       "      <td>363</td>\n",
       "    </tr>\n",
       "    <tr>\n",
       "      <th>4</th>\n",
       "      <td>ATQCUS1825</td>\n",
       "      <td>45+</td>\n",
       "      <td>Bengaluru</td>\n",
       "      <td>Salaried IT Employees</td>\n",
       "      <td>Male</td>\n",
       "      <td>Married</td>\n",
       "      <td>73523</td>\n",
       "      <td>May</td>\n",
       "      <td>Food</td>\n",
       "      <td>Debit Card</td>\n",
       "      <td>334</td>\n",
       "    </tr>\n",
       "    <tr>\n",
       "      <th>...</th>\n",
       "      <td>...</td>\n",
       "      <td>...</td>\n",
       "      <td>...</td>\n",
       "      <td>...</td>\n",
       "      <td>...</td>\n",
       "      <td>...</td>\n",
       "      <td>...</td>\n",
       "      <td>...</td>\n",
       "      <td>...</td>\n",
       "      <td>...</td>\n",
       "      <td>...</td>\n",
       "    </tr>\n",
       "    <tr>\n",
       "      <th>863995</th>\n",
       "      <td>ATQCUS3477</td>\n",
       "      <td>25-34</td>\n",
       "      <td>Mumbai</td>\n",
       "      <td>Business Owners</td>\n",
       "      <td>Male</td>\n",
       "      <td>Single</td>\n",
       "      <td>73541</td>\n",
       "      <td>May</td>\n",
       "      <td>Bills</td>\n",
       "      <td>Net Banking</td>\n",
       "      <td>548</td>\n",
       "    </tr>\n",
       "    <tr>\n",
       "      <th>863996</th>\n",
       "      <td>ATQCUS3477</td>\n",
       "      <td>25-34</td>\n",
       "      <td>Mumbai</td>\n",
       "      <td>Business Owners</td>\n",
       "      <td>Male</td>\n",
       "      <td>Single</td>\n",
       "      <td>73541</td>\n",
       "      <td>October</td>\n",
       "      <td>Apparel</td>\n",
       "      <td>UPI</td>\n",
       "      <td>174</td>\n",
       "    </tr>\n",
       "    <tr>\n",
       "      <th>863997</th>\n",
       "      <td>ATQCUS3477</td>\n",
       "      <td>25-34</td>\n",
       "      <td>Mumbai</td>\n",
       "      <td>Business Owners</td>\n",
       "      <td>Male</td>\n",
       "      <td>Single</td>\n",
       "      <td>73541</td>\n",
       "      <td>September</td>\n",
       "      <td>Food</td>\n",
       "      <td>Debit Card</td>\n",
       "      <td>346</td>\n",
       "    </tr>\n",
       "    <tr>\n",
       "      <th>863998</th>\n",
       "      <td>ATQCUS3477</td>\n",
       "      <td>25-34</td>\n",
       "      <td>Mumbai</td>\n",
       "      <td>Business Owners</td>\n",
       "      <td>Male</td>\n",
       "      <td>Single</td>\n",
       "      <td>73541</td>\n",
       "      <td>June</td>\n",
       "      <td>Apparel</td>\n",
       "      <td>Net Banking</td>\n",
       "      <td>54</td>\n",
       "    </tr>\n",
       "    <tr>\n",
       "      <th>863999</th>\n",
       "      <td>ATQCUS3477</td>\n",
       "      <td>25-34</td>\n",
       "      <td>Mumbai</td>\n",
       "      <td>Business Owners</td>\n",
       "      <td>Male</td>\n",
       "      <td>Single</td>\n",
       "      <td>73541</td>\n",
       "      <td>September</td>\n",
       "      <td>Health &amp; Wellness</td>\n",
       "      <td>Credit Card</td>\n",
       "      <td>1155</td>\n",
       "    </tr>\n",
       "  </tbody>\n",
       "</table>\n",
       "<p>864000 rows × 11 columns</p>\n",
       "</div>"
      ],
      "text/plain": [
       "       customer_id age_group       city             occupation gender  \\\n",
       "0       ATQCUS1825       45+  Bengaluru  Salaried IT Employees   Male   \n",
       "1       ATQCUS1825       45+  Bengaluru  Salaried IT Employees   Male   \n",
       "2       ATQCUS1825       45+  Bengaluru  Salaried IT Employees   Male   \n",
       "3       ATQCUS1825       45+  Bengaluru  Salaried IT Employees   Male   \n",
       "4       ATQCUS1825       45+  Bengaluru  Salaried IT Employees   Male   \n",
       "...            ...       ...        ...                    ...    ...   \n",
       "863995  ATQCUS3477     25-34     Mumbai        Business Owners   Male   \n",
       "863996  ATQCUS3477     25-34     Mumbai        Business Owners   Male   \n",
       "863997  ATQCUS3477     25-34     Mumbai        Business Owners   Male   \n",
       "863998  ATQCUS3477     25-34     Mumbai        Business Owners   Male   \n",
       "863999  ATQCUS3477     25-34     Mumbai        Business Owners   Male   \n",
       "\n",
       "       marital status  avg_income      month           category payment_type  \\\n",
       "0             Married       73523        May        Electronics  Net Banking   \n",
       "1             Married       73523        May          Groceries   Debit Card   \n",
       "2             Married       73523       June              Bills  Credit Card   \n",
       "3             Married       73523  September            Apparel   Debit Card   \n",
       "4             Married       73523        May               Food   Debit Card   \n",
       "...               ...         ...        ...                ...          ...   \n",
       "863995         Single       73541        May              Bills  Net Banking   \n",
       "863996         Single       73541    October            Apparel          UPI   \n",
       "863997         Single       73541  September               Food   Debit Card   \n",
       "863998         Single       73541       June            Apparel  Net Banking   \n",
       "863999         Single       73541  September  Health & Wellness  Credit Card   \n",
       "\n",
       "        spend  \n",
       "0         405  \n",
       "1        1096  \n",
       "2        2765  \n",
       "3         363  \n",
       "4         334  \n",
       "...       ...  \n",
       "863995    548  \n",
       "863996    174  \n",
       "863997    346  \n",
       "863998     54  \n",
       "863999   1155  \n",
       "\n",
       "[864000 rows x 11 columns]"
      ]
     },
     "execution_count": 57,
     "metadata": {},
     "output_type": "execute_result"
    }
   ],
   "source": [
    "cust_spend"
   ]
  },
  {
   "cell_type": "code",
   "execution_count": 60,
   "id": "43f02652-6abe-4c45-b4d9-e38d176d7480",
   "metadata": {},
   "outputs": [
    {
     "data": {
      "text/plain": [
       "Index(['customer_id', 'age_group', 'city', 'occupation', 'gender',\n",
       "       'marital status', 'avg_income', 'month', 'category', 'payment_type',\n",
       "       'spend'],\n",
       "      dtype='object')"
      ]
     },
     "execution_count": 60,
     "metadata": {},
     "output_type": "execute_result"
    }
   ],
   "source": [
    "cust_spend.columns"
   ]
  },
  {
   "cell_type": "code",
   "execution_count": 63,
   "id": "852cf792-f407-4c45-990f-023d4d2ddc82",
   "metadata": {},
   "outputs": [
    {
     "data": {
      "text/html": [
       "<div>\n",
       "<style scoped>\n",
       "    .dataframe tbody tr th:only-of-type {\n",
       "        vertical-align: middle;\n",
       "    }\n",
       "\n",
       "    .dataframe tbody tr th {\n",
       "        vertical-align: top;\n",
       "    }\n",
       "\n",
       "    .dataframe thead th {\n",
       "        text-align: right;\n",
       "    }\n",
       "</style>\n",
       "<table border=\"1\" class=\"dataframe\">\n",
       "  <thead>\n",
       "    <tr style=\"text-align: right;\">\n",
       "      <th></th>\n",
       "      <th>category</th>\n",
       "      <th>gender</th>\n",
       "      <th>spend</th>\n",
       "    </tr>\n",
       "  </thead>\n",
       "  <tbody>\n",
       "    <tr>\n",
       "      <th>3</th>\n",
       "      <td>Bills</td>\n",
       "      <td>Male</td>\n",
       "      <td>80567679</td>\n",
       "    </tr>\n",
       "    <tr>\n",
       "      <th>11</th>\n",
       "      <td>Groceries</td>\n",
       "      <td>Male</td>\n",
       "      <td>66187511</td>\n",
       "    </tr>\n",
       "    <tr>\n",
       "      <th>5</th>\n",
       "      <td>Electronics</td>\n",
       "      <td>Male</td>\n",
       "      <td>60857815</td>\n",
       "    </tr>\n",
       "    <tr>\n",
       "      <th>17</th>\n",
       "      <td>Travel</td>\n",
       "      <td>Male</td>\n",
       "      <td>36576633</td>\n",
       "    </tr>\n",
       "    <tr>\n",
       "      <th>12</th>\n",
       "      <td>Health &amp; Wellness</td>\n",
       "      <td>Female</td>\n",
       "      <td>36202396</td>\n",
       "    </tr>\n",
       "  </tbody>\n",
       "</table>\n",
       "</div>"
      ],
      "text/plain": [
       "             category  gender     spend\n",
       "3               Bills    Male  80567679\n",
       "11          Groceries    Male  66187511\n",
       "5         Electronics    Male  60857815\n",
       "17             Travel    Male  36576633\n",
       "12  Health & Wellness  Female  36202396"
      ]
     },
     "execution_count": 63,
     "metadata": {},
     "output_type": "execute_result"
    }
   ],
   "source": [
    "#Highest 5 spending catrgory wise\n",
    "cust_spend.groupby(['category','gender'],as_index=False)['spend'].sum().sort_values(by='spend',ascending=False).head(5)"
   ]
  },
  {
   "cell_type": "code",
   "execution_count": 234,
   "id": "aac00a61-639d-4f94-83b7-0fd65e03feb0",
   "metadata": {},
   "outputs": [
    {
     "data": {
      "text/html": [
       "<div>\n",
       "<style scoped>\n",
       "    .dataframe tbody tr th:only-of-type {\n",
       "        vertical-align: middle;\n",
       "    }\n",
       "\n",
       "    .dataframe tbody tr th {\n",
       "        vertical-align: top;\n",
       "    }\n",
       "\n",
       "    .dataframe thead th {\n",
       "        text-align: right;\n",
       "    }\n",
       "</style>\n",
       "<table border=\"1\" class=\"dataframe\">\n",
       "  <thead>\n",
       "    <tr style=\"text-align: right;\">\n",
       "      <th></th>\n",
       "      <th>category</th>\n",
       "      <th>spend</th>\n",
       "    </tr>\n",
       "  </thead>\n",
       "  <tbody>\n",
       "    <tr>\n",
       "      <th>1</th>\n",
       "      <td>Bills</td>\n",
       "      <td>80567679</td>\n",
       "    </tr>\n",
       "    <tr>\n",
       "      <th>5</th>\n",
       "      <td>Groceries</td>\n",
       "      <td>66187511</td>\n",
       "    </tr>\n",
       "    <tr>\n",
       "      <th>2</th>\n",
       "      <td>Electronics</td>\n",
       "      <td>60857815</td>\n",
       "    </tr>\n",
       "    <tr>\n",
       "      <th>8</th>\n",
       "      <td>Travel</td>\n",
       "      <td>36576633</td>\n",
       "    </tr>\n",
       "    <tr>\n",
       "      <th>3</th>\n",
       "      <td>Entertainment</td>\n",
       "      <td>31475189</td>\n",
       "    </tr>\n",
       "  </tbody>\n",
       "</table>\n",
       "</div>"
      ],
      "text/plain": [
       "        category     spend\n",
       "1          Bills  80567679\n",
       "5      Groceries  66187511\n",
       "2    Electronics  60857815\n",
       "8         Travel  36576633\n",
       "3  Entertainment  31475189"
      ]
     },
     "execution_count": 234,
     "metadata": {},
     "output_type": "execute_result"
    }
   ],
   "source": [
    "# highest Top 5 spending category by Male\n",
    "male_spending=cust_spend[cust_spend['gender'] == 'Male']\n",
    "male_spending_category=male_spending.groupby(['category'],as_index=False)['spend'].sum().sort_values(by='spend',ascending=False).head(5)\n",
    "male_spending_category\n",
    "#ax=sns.countplot(data=male_spending_category,x='category')\n",
    "#for bars in ax.containers:\n",
    " #   ax.bar_label(bars)"
   ]
  },
  {
   "cell_type": "markdown",
   "id": "31ec7e0c-18c2-4031-b74b-ea3f67fa9450",
   "metadata": {},
   "source": [
    "<h3>Males generally spend more than females, indicating higher expenditure patterns among male consumers. Consumer most spends on Bills followed by Groceries,Electronics and Travel</h3>"
   ]
  },
  {
   "cell_type": "code",
   "execution_count": 238,
   "id": "26575e94-0c34-4d41-9b0c-d3a9c2b28f5b",
   "metadata": {},
   "outputs": [
    {
     "data": {
      "text/html": [
       "<div>\n",
       "<style scoped>\n",
       "    .dataframe tbody tr th:only-of-type {\n",
       "        vertical-align: middle;\n",
       "    }\n",
       "\n",
       "    .dataframe tbody tr th {\n",
       "        vertical-align: top;\n",
       "    }\n",
       "\n",
       "    .dataframe thead th {\n",
       "        text-align: right;\n",
       "    }\n",
       "</style>\n",
       "<table border=\"1\" class=\"dataframe\">\n",
       "  <thead>\n",
       "    <tr style=\"text-align: right;\">\n",
       "      <th></th>\n",
       "      <th>category</th>\n",
       "      <th>spend</th>\n",
       "    </tr>\n",
       "  </thead>\n",
       "  <tbody>\n",
       "    <tr>\n",
       "      <th>6</th>\n",
       "      <td>Health &amp; Wellness</td>\n",
       "      <td>36202396</td>\n",
       "    </tr>\n",
       "    <tr>\n",
       "      <th>1</th>\n",
       "      <td>Bills</td>\n",
       "      <td>24345089</td>\n",
       "    </tr>\n",
       "    <tr>\n",
       "      <th>8</th>\n",
       "      <td>Travel</td>\n",
       "      <td>22646691</td>\n",
       "    </tr>\n",
       "    <tr>\n",
       "      <th>5</th>\n",
       "      <td>Groceries</td>\n",
       "      <td>20116250</td>\n",
       "    </tr>\n",
       "    <tr>\n",
       "      <th>0</th>\n",
       "      <td>Apparel</td>\n",
       "      <td>18958100</td>\n",
       "    </tr>\n",
       "  </tbody>\n",
       "</table>\n",
       "</div>"
      ],
      "text/plain": [
       "            category     spend\n",
       "6  Health & Wellness  36202396\n",
       "1              Bills  24345089\n",
       "8             Travel  22646691\n",
       "5          Groceries  20116250\n",
       "0            Apparel  18958100"
      ]
     },
     "execution_count": 238,
     "metadata": {},
     "output_type": "execute_result"
    }
   ],
   "source": [
    "## highest Top 5 spending category by Female\n",
    "female_spending=cust_spend[cust_spend['gender'] == 'Female']\n",
    "female_spending_category=female_spending.groupby(['category'],as_index=False)['spend'].sum().sort_values(by='spend',ascending=False).head(5)\n",
    "female_spending_category\n"
   ]
  },
  {
   "cell_type": "markdown",
   "id": "71d014d9-d5a1-456c-9757-b844ec08393f",
   "metadata": {},
   "source": [
    "<h3>\n",
    "The Top 5 highest spending product categories by female are Health & Wellness, Bills, Travel, Groceries,\n",
    "    and Apparel These categories collectively represent the majority of female consumer expenditure.</h3>"
   ]
  },
  {
   "cell_type": "code",
   "execution_count": 289,
   "id": "ea59fbf7-9729-4a06-973c-debcc6b5649a",
   "metadata": {},
   "outputs": [
    {
     "data": {
      "image/png": "[encoded data removed]",
      "text/plain": [
       "<Figure size 640x480 with 1 Axes>"
      ]
     },
     "metadata": {},
     "output_type": "display_data"
    }
   ],
   "source": [
    "cust_spend_cus=cust_spend[cust_spend['payment_type']=='Credit Card']\n",
    "ax=sns.countplot(data=cust_spend_cus,x='gender')\n",
    "for bars in ax.containers:\n",
    "    ax.bar_label(bars)\n"
   ]
  },
  {
   "cell_type": "code",
   "execution_count": 288,
   "id": "4ffa8137-d106-4de9-b740-6faef9c7371e",
   "metadata": {},
   "outputs": [
    {
     "data": {
      "text/html": [
       "<div>\n",
       "<style scoped>\n",
       "    .dataframe tbody tr th:only-of-type {\n",
       "        vertical-align: middle;\n",
       "    }\n",
       "\n",
       "    .dataframe tbody tr th {\n",
       "        vertical-align: top;\n",
       "    }\n",
       "\n",
       "    .dataframe thead th {\n",
       "        text-align: right;\n",
       "    }\n",
       "</style>\n",
       "<table border=\"1\" class=\"dataframe\">\n",
       "  <thead>\n",
       "    <tr style=\"text-align: right;\">\n",
       "      <th></th>\n",
       "      <th>customer_id</th>\n",
       "      <th>age_group</th>\n",
       "      <th>city</th>\n",
       "      <th>occupation</th>\n",
       "      <th>gender</th>\n",
       "      <th>marital status</th>\n",
       "      <th>avg_income</th>\n",
       "      <th>month</th>\n",
       "      <th>category</th>\n",
       "      <th>payment_type</th>\n",
       "      <th>spend</th>\n",
       "    </tr>\n",
       "  </thead>\n",
       "  <tbody>\n",
       "    <tr>\n",
       "      <th>2</th>\n",
       "      <td>ATQCUS1825</td>\n",
       "      <td>45+</td>\n",
       "      <td>Bengaluru</td>\n",
       "      <td>Salaried IT Employees</td>\n",
       "      <td>Male</td>\n",
       "      <td>Married</td>\n",
       "      <td>73523</td>\n",
       "      <td>June</td>\n",
       "      <td>Bills</td>\n",
       "      <td>Credit Card</td>\n",
       "      <td>2765</td>\n",
       "    </tr>\n",
       "    <tr>\n",
       "      <th>17</th>\n",
       "      <td>ATQCUS1825</td>\n",
       "      <td>45+</td>\n",
       "      <td>Bengaluru</td>\n",
       "      <td>Salaried IT Employees</td>\n",
       "      <td>Male</td>\n",
       "      <td>Married</td>\n",
       "      <td>73523</td>\n",
       "      <td>August</td>\n",
       "      <td>Groceries</td>\n",
       "      <td>Credit Card</td>\n",
       "      <td>2143</td>\n",
       "    </tr>\n",
       "    <tr>\n",
       "      <th>19</th>\n",
       "      <td>ATQCUS1825</td>\n",
       "      <td>45+</td>\n",
       "      <td>Bengaluru</td>\n",
       "      <td>Salaried IT Employees</td>\n",
       "      <td>Male</td>\n",
       "      <td>Married</td>\n",
       "      <td>73523</td>\n",
       "      <td>July</td>\n",
       "      <td>Bills</td>\n",
       "      <td>Credit Card</td>\n",
       "      <td>3825</td>\n",
       "    </tr>\n",
       "    <tr>\n",
       "      <th>20</th>\n",
       "      <td>ATQCUS1825</td>\n",
       "      <td>45+</td>\n",
       "      <td>Bengaluru</td>\n",
       "      <td>Salaried IT Employees</td>\n",
       "      <td>Male</td>\n",
       "      <td>Married</td>\n",
       "      <td>73523</td>\n",
       "      <td>May</td>\n",
       "      <td>Travel</td>\n",
       "      <td>Credit Card</td>\n",
       "      <td>1175</td>\n",
       "    </tr>\n",
       "    <tr>\n",
       "      <th>24</th>\n",
       "      <td>ATQCUS1825</td>\n",
       "      <td>45+</td>\n",
       "      <td>Bengaluru</td>\n",
       "      <td>Salaried IT Employees</td>\n",
       "      <td>Male</td>\n",
       "      <td>Married</td>\n",
       "      <td>73523</td>\n",
       "      <td>October</td>\n",
       "      <td>Groceries</td>\n",
       "      <td>Credit Card</td>\n",
       "      <td>1353</td>\n",
       "    </tr>\n",
       "    <tr>\n",
       "      <th>...</th>\n",
       "      <td>...</td>\n",
       "      <td>...</td>\n",
       "      <td>...</td>\n",
       "      <td>...</td>\n",
       "      <td>...</td>\n",
       "      <td>...</td>\n",
       "      <td>...</td>\n",
       "      <td>...</td>\n",
       "      <td>...</td>\n",
       "      <td>...</td>\n",
       "      <td>...</td>\n",
       "    </tr>\n",
       "    <tr>\n",
       "      <th>863972</th>\n",
       "      <td>ATQCUS3477</td>\n",
       "      <td>25-34</td>\n",
       "      <td>Mumbai</td>\n",
       "      <td>Business Owners</td>\n",
       "      <td>Male</td>\n",
       "      <td>Single</td>\n",
       "      <td>73541</td>\n",
       "      <td>May</td>\n",
       "      <td>Groceries</td>\n",
       "      <td>Credit Card</td>\n",
       "      <td>1366</td>\n",
       "    </tr>\n",
       "    <tr>\n",
       "      <th>863973</th>\n",
       "      <td>ATQCUS3477</td>\n",
       "      <td>25-34</td>\n",
       "      <td>Mumbai</td>\n",
       "      <td>Business Owners</td>\n",
       "      <td>Male</td>\n",
       "      <td>Single</td>\n",
       "      <td>73541</td>\n",
       "      <td>June</td>\n",
       "      <td>Apparel</td>\n",
       "      <td>Credit Card</td>\n",
       "      <td>310</td>\n",
       "    </tr>\n",
       "    <tr>\n",
       "      <th>863979</th>\n",
       "      <td>ATQCUS3477</td>\n",
       "      <td>25-34</td>\n",
       "      <td>Mumbai</td>\n",
       "      <td>Business Owners</td>\n",
       "      <td>Male</td>\n",
       "      <td>Single</td>\n",
       "      <td>73541</td>\n",
       "      <td>July</td>\n",
       "      <td>Travel</td>\n",
       "      <td>Credit Card</td>\n",
       "      <td>1929</td>\n",
       "    </tr>\n",
       "    <tr>\n",
       "      <th>863985</th>\n",
       "      <td>ATQCUS3477</td>\n",
       "      <td>25-34</td>\n",
       "      <td>Mumbai</td>\n",
       "      <td>Business Owners</td>\n",
       "      <td>Male</td>\n",
       "      <td>Single</td>\n",
       "      <td>73541</td>\n",
       "      <td>May</td>\n",
       "      <td>Others</td>\n",
       "      <td>Credit Card</td>\n",
       "      <td>249</td>\n",
       "    </tr>\n",
       "    <tr>\n",
       "      <th>863999</th>\n",
       "      <td>ATQCUS3477</td>\n",
       "      <td>25-34</td>\n",
       "      <td>Mumbai</td>\n",
       "      <td>Business Owners</td>\n",
       "      <td>Male</td>\n",
       "      <td>Single</td>\n",
       "      <td>73541</td>\n",
       "      <td>September</td>\n",
       "      <td>Health &amp; Wellness</td>\n",
       "      <td>Credit Card</td>\n",
       "      <td>1155</td>\n",
       "    </tr>\n",
       "  </tbody>\n",
       "</table>\n",
       "<p>216000 rows × 11 columns</p>\n",
       "</div>"
      ],
      "text/plain": [
       "       customer_id age_group       city             occupation gender  \\\n",
       "2       ATQCUS1825       45+  Bengaluru  Salaried IT Employees   Male   \n",
       "17      ATQCUS1825       45+  Bengaluru  Salaried IT Employees   Male   \n",
       "19      ATQCUS1825       45+  Bengaluru  Salaried IT Employees   Male   \n",
       "20      ATQCUS1825       45+  Bengaluru  Salaried IT Employees   Male   \n",
       "24      ATQCUS1825       45+  Bengaluru  Salaried IT Employees   Male   \n",
       "...            ...       ...        ...                    ...    ...   \n",
       "863972  ATQCUS3477     25-34     Mumbai        Business Owners   Male   \n",
       "863973  ATQCUS3477     25-34     Mumbai        Business Owners   Male   \n",
       "863979  ATQCUS3477     25-34     Mumbai        Business Owners   Male   \n",
       "863985  ATQCUS3477     25-34     Mumbai        Business Owners   Male   \n",
       "863999  ATQCUS3477     25-34     Mumbai        Business Owners   Male   \n",
       "\n",
       "       marital status  avg_income      month           category payment_type  \\\n",
       "2             Married       73523       June              Bills  Credit Card   \n",
       "17            Married       73523     August          Groceries  Credit Card   \n",
       "19            Married       73523       July              Bills  Credit Card   \n",
       "20            Married       73523        May             Travel  Credit Card   \n",
       "24            Married       73523    October          Groceries  Credit Card   \n",
       "...               ...         ...        ...                ...          ...   \n",
       "863972         Single       73541        May          Groceries  Credit Card   \n",
       "863973         Single       73541       June            Apparel  Credit Card   \n",
       "863979         Single       73541       July             Travel  Credit Card   \n",
       "863985         Single       73541        May             Others  Credit Card   \n",
       "863999         Single       73541  September  Health & Wellness  Credit Card   \n",
       "\n",
       "        spend  \n",
       "2        2765  \n",
       "17       2143  \n",
       "19       3825  \n",
       "20       1175  \n",
       "24       1353  \n",
       "...       ...  \n",
       "863972   1366  \n",
       "863973    310  \n",
       "863979   1929  \n",
       "863985    249  \n",
       "863999   1155  \n",
       "\n",
       "[216000 rows x 11 columns]"
      ]
     },
     "execution_count": 288,
     "metadata": {},
     "output_type": "execute_result"
    }
   ],
   "source": [
    "cust_spend_cus"
   ]
  },
  {
   "cell_type": "code",
   "execution_count": 78,
   "id": "df3d3027-2595-49e0-9bfe-ba38e6910ae2",
   "metadata": {},
   "outputs": [
    {
     "data": {
      "text/plain": [
       "payment_type\n",
       "Credit Card    144201546\n",
       "UPI             95802445\n",
       "Debit Card      80453019\n",
       "Net Banking     36681027\n",
       "Name: spend, dtype: int64"
      ]
     },
     "execution_count": 78,
     "metadata": {},
     "output_type": "execute_result"
    }
   ],
   "source": [
    "#Amount spend by Male by payment type\n",
    "male_spending.groupby(['payment_type'])['spend'].sum().sort_values(ascending=False)"
   ]
  },
  {
   "cell_type": "code",
   "execution_count": 79,
   "id": "786f90d0-3b34-4bb0-813e-8a934c37f70e",
   "metadata": {},
   "outputs": [
    {
     "data": {
      "text/plain": [
       "payment_type\n",
       "Credit Card    72107327\n",
       "UPI            45020778\n",
       "Debit Card     39104210\n",
       "Net Banking    17527403\n",
       "Name: spend, dtype: int64"
      ]
     },
     "execution_count": 79,
     "metadata": {},
     "output_type": "execute_result"
    }
   ],
   "source": [
    "#Amount spended by female using payment type\n",
    "female_spending.groupby(['payment_type'])['spend'].sum().sort_values(ascending=False)"
   ]
  },
  {
   "cell_type": "markdown",
   "id": "0523205d-0b36-49e5-b811-b8bc70fdf1de",
   "metadata": {},
   "source": [
    "<h3> Males and Females both predominantly spend using <b>credit cards</b>, followed by UPI, debit cards and Net Banking. This indicates a preference for credit-based transactions among all consumers.</h3>"
   ]
  },
  {
   "cell_type": "code",
   "execution_count": 213,
   "id": "91f1279b-685c-4975-a06c-daa368e33132",
   "metadata": {},
   "outputs": [
    {
     "data": {
      "text/html": [
       "<div>\n",
       "<style scoped>\n",
       "    .dataframe tbody tr th:only-of-type {\n",
       "        vertical-align: middle;\n",
       "    }\n",
       "\n",
       "    .dataframe tbody tr th {\n",
       "        vertical-align: top;\n",
       "    }\n",
       "\n",
       "    .dataframe thead th {\n",
       "        text-align: right;\n",
       "    }\n",
       "</style>\n",
       "<table border=\"1\" class=\"dataframe\">\n",
       "  <thead>\n",
       "    <tr style=\"text-align: right;\">\n",
       "      <th></th>\n",
       "      <th>city</th>\n",
       "      <th>spend</th>\n",
       "    </tr>\n",
       "  </thead>\n",
       "  <tbody>\n",
       "    <tr>\n",
       "      <th>4</th>\n",
       "      <td>Mumbai</td>\n",
       "      <td>23450370</td>\n",
       "    </tr>\n",
       "    <tr>\n",
       "      <th>2</th>\n",
       "      <td>Delhi NCR</td>\n",
       "      <td>15881153</td>\n",
       "    </tr>\n",
       "    <tr>\n",
       "      <th>0</th>\n",
       "      <td>Bengaluru</td>\n",
       "      <td>12972003</td>\n",
       "    </tr>\n",
       "    <tr>\n",
       "      <th>1</th>\n",
       "      <td>Chennai</td>\n",
       "      <td>11189252</td>\n",
       "    </tr>\n",
       "    <tr>\n",
       "      <th>3</th>\n",
       "      <td>Hyderabad</td>\n",
       "      <td>8614549</td>\n",
       "    </tr>\n",
       "  </tbody>\n",
       "</table>\n",
       "</div>"
      ],
      "text/plain": [
       "        city     spend\n",
       "4     Mumbai  23450370\n",
       "2  Delhi NCR  15881153\n",
       "0  Bengaluru  12972003\n",
       "1    Chennai  11189252\n",
       "3  Hyderabad   8614549"
      ]
     },
     "execution_count": 213,
     "metadata": {},
     "output_type": "execute_result"
    }
   ],
   "source": [
    "female_customer= cust_spend[cust_spend['gender'] == 'Female']\n",
    "credit_card_female=female_customer[female_customer['payment_type'] == 'Credit Card']\n",
    "credit_card_female.groupby(['city'],as_index=False)['spend'].sum().sort_values(by='spend',ascending=False)\n"
   ]
  },
  {
   "cell_type": "code",
   "execution_count": 300,
   "id": "ae58a996-cb15-4476-8620-45e83cb6856e",
   "metadata": {},
   "outputs": [
    {
     "data": {
      "text/plain": [
       "occupation\n",
       "Salaried IT Employees       40995199\n",
       "Salaried Other Employees    13322613\n",
       "Business Owners              6382759\n",
       "Freelancers                  5993466\n",
       "Government Employees         5413290\n",
       "Name: spend, dtype: int64"
      ]
     },
     "execution_count": 300,
     "metadata": {},
     "output_type": "execute_result"
    }
   ],
   "source": [
    "credit_card_female.groupby(['occupation'])['spend'].sum().sort_values(ascending=False)"
   ]
  },
  {
   "cell_type": "code",
   "execution_count": 297,
   "id": "552c4d9e-f659-4569-bcb9-32c6d4e89668",
   "metadata": {},
   "outputs": [
    {
     "data": {
      "text/html": [
       "<div>\n",
       "<style scoped>\n",
       "    .dataframe tbody tr th:only-of-type {\n",
       "        vertical-align: middle;\n",
       "    }\n",
       "\n",
       "    .dataframe tbody tr th {\n",
       "        vertical-align: top;\n",
       "    }\n",
       "\n",
       "    .dataframe thead th {\n",
       "        text-align: right;\n",
       "    }\n",
       "</style>\n",
       "<table border=\"1\" class=\"dataframe\">\n",
       "  <thead>\n",
       "    <tr style=\"text-align: right;\">\n",
       "      <th></th>\n",
       "      <th>city</th>\n",
       "      <th>spend</th>\n",
       "    </tr>\n",
       "  </thead>\n",
       "  <tbody>\n",
       "    <tr>\n",
       "      <th>4</th>\n",
       "      <td>Mumbai</td>\n",
       "      <td>46116280</td>\n",
       "    </tr>\n",
       "    <tr>\n",
       "      <th>2</th>\n",
       "      <td>Delhi NCR</td>\n",
       "      <td>29965125</td>\n",
       "    </tr>\n",
       "    <tr>\n",
       "      <th>0</th>\n",
       "      <td>Bengaluru</td>\n",
       "      <td>27239462</td>\n",
       "    </tr>\n",
       "    <tr>\n",
       "      <th>1</th>\n",
       "      <td>Chennai</td>\n",
       "      <td>21939035</td>\n",
       "    </tr>\n",
       "    <tr>\n",
       "      <th>3</th>\n",
       "      <td>Hyderabad</td>\n",
       "      <td>18941644</td>\n",
       "    </tr>\n",
       "  </tbody>\n",
       "</table>\n",
       "</div>"
      ],
      "text/plain": [
       "        city     spend\n",
       "4     Mumbai  46116280\n",
       "2  Delhi NCR  29965125\n",
       "0  Bengaluru  27239462\n",
       "1    Chennai  21939035\n",
       "3  Hyderabad  18941644"
      ]
     },
     "execution_count": 297,
     "metadata": {},
     "output_type": "execute_result"
    }
   ],
   "source": [
    "#Amount spended by city , credit card by male\n",
    "male_customer=cust_spend[(cust_spend['gender'] == 'Male')&(cust_spend['payment_type']=='Credit Card')]\n",
    "male_customer.groupby(['city'],as_index=False)['spend'].sum().sort_values(by='spend',ascending=False)"
   ]
  },
  {
   "cell_type": "code",
   "execution_count": 309,
   "id": "49691013-2f0a-4f63-a5a4-02262bb52c77",
   "metadata": {},
   "outputs": [
    {
     "data": {
      "text/plain": [
       "1.19"
      ]
     },
     "execution_count": 309,
     "metadata": {},
     "output_type": "execute_result"
    }
   ],
   "source": [
    "Avg_income=cust_spend['avg_income'].sum()\n",
    "Avg_income\n",
    "Avg_spend=cust_spend['spend'].sum()\n",
    "Avg_spend\n",
    "Avg_income_utilization=(Avg_spend/Avg_income)*100\n",
    "round(Avg_income_utilization,2)"
   ]
  },
  {
   "cell_type": "code",
   "execution_count": 312,
   "id": "49ff47ca-1396-46d6-ab20-1638ddd17097",
   "metadata": {},
   "outputs": [
    {
     "data": {
      "text/plain": [
       "1.94"
      ]
     },
     "execution_count": 312,
     "metadata": {},
     "output_type": "execute_result"
    }
   ],
   "source": [
    "cust_credit=cust_spend[cust_spend['payment_type']=='Credit Card']\n",
    "Avg_income=cust_credit['avg_income'].sum()\n",
    "Avg_income\n",
    "Avg_spend=cust_credit['spend'].sum()\n",
    "Avg_spend\n",
    "Avg_income_utilization=(Avg_spend/Avg_income)*100\n",
    "round(Avg_income_utilization,2)"
   ]
  },
  {
   "cell_type": "markdown",
   "id": "3f2c4530-3f75-427f-9351-8ebd86ab5d9f",
   "metadata": {},
   "source": [
    "<h3>Average Utilization is very minimal only 1.19% compared to average income, and credit card users are spend 1.94% of their spending by credit card</h3>"
   ]
  },
  {
   "cell_type": "code",
   "execution_count": 298,
   "id": "d70b73ea-943b-4057-b365-3fbc3f6de5ff",
   "metadata": {},
   "outputs": [
    {
     "data": {
      "text/plain": [
       "occupation\n",
       "Salaried IT Employees       60410126\n",
       "Business Owners             29631671\n",
       "Salaried Other Employees    23809532\n",
       "Freelancers                 20027140\n",
       "Government Employees        10323077\n",
       "Name: spend, dtype: int64"
      ]
     },
     "execution_count": 298,
     "metadata": {},
     "output_type": "execute_result"
    }
   ],
   "source": [
    "male_customer.groupby(['occupation'])['spend'].sum().sort_values(ascending=False)"
   ]
  },
  {
   "cell_type": "code",
   "execution_count": null,
   "id": "f7d8c416-06ed-49cc-8464-b78bf419b73a",
   "metadata": {},
   "outputs": [],
   "source": []
  },
  {
   "cell_type": "markdown",
   "id": "b69d42a1-05ae-4d6a-9a43-78919a237b90",
   "metadata": {},
   "source": [
    "<h3><b>Mumbai</b> has the Highest amount spent by males and females using credit cards, while the Lowest spending trend in both the gender using credit cards can seen in <b>Hyderabad</b>. This highlights a significant trend of Higher credit card expenditures for both genders in Mumbai city and Lowest in Hyderabad</h3>"
   ]
  },
  {
   "cell_type": "code",
   "execution_count": 222,
   "id": "c1e01a1a-d7e5-4a74-bd7d-f56f88c2e42d",
   "metadata": {},
   "outputs": [
    {
     "data": {
      "text/plain": [
       "city       payment_type\n",
       "Hyderabad  Debit Card      4806583\n",
       "Delhi NCR  Net Banking     3746219\n",
       "Bengaluru  Net Banking     3316781\n",
       "Chennai    Net Banking     2564266\n",
       "Hyderabad  Net Banking     2090585\n",
       "Name: spend, dtype: int64"
      ]
     },
     "execution_count": 222,
     "metadata": {},
     "output_type": "execute_result"
    }
   ],
   "source": [
    "#Lowest amount spended by city , payment type by female\n",
    "female_spending.groupby(['city','payment_type'])['spend'].sum().sort_values(ascending=False).tail()"
   ]
  },
  {
   "cell_type": "code",
   "execution_count": 293,
   "id": "474f06b0-387c-44ea-8777-6ee8b1d1a78c",
   "metadata": {},
   "outputs": [
    {
     "data": {
      "text/plain": [
       "age_group\n",
       "21-24    43951563\n",
       "Name: spend, dtype: int64"
      ]
     },
     "execution_count": 293,
     "metadata": {},
     "output_type": "execute_result"
    }
   ],
   "source": [
    "#Lowest spending capacity age group in male\n",
    "male_spending.groupby(['age_group'])['spend'].sum().sort_values(ascending=False).tail(1)"
   ]
  },
  {
   "cell_type": "code",
   "execution_count": 295,
   "id": "d9bf97ea-ebe7-42e9-8b8d-cd7a993c26b0",
   "metadata": {},
   "outputs": [
    {
     "data": {
      "text/plain": [
       "age_group\n",
       "25-34    136290216\n",
       "Name: spend, dtype: int64"
      ]
     },
     "execution_count": 295,
     "metadata": {},
     "output_type": "execute_result"
    }
   ],
   "source": [
    "#Highst spending capacity age group in male\n",
    "male_spending.groupby(['age_group'])['spend'].sum().sort_values(ascending=False).head(1)"
   ]
  },
  {
   "cell_type": "code",
   "execution_count": 104,
   "id": "6437d6fc-679a-4a6d-9199-ec13149fbb03",
   "metadata": {},
   "outputs": [
    {
     "data": {
      "text/plain": [
       "age_group\n",
       "45+    20360196\n",
       "Name: spend, dtype: int64"
      ]
     },
     "execution_count": 104,
     "metadata": {},
     "output_type": "execute_result"
    }
   ],
   "source": [
    "#Lowest spending capacity age group in female\n",
    "female_spending.groupby(['age_group'])['spend'].sum().sort_values(ascending=False).tail(1)"
   ]
  },
  {
   "cell_type": "code",
   "execution_count": 105,
   "id": "874eee20-1ed9-4685-b0c7-30fb6643037f",
   "metadata": {},
   "outputs": [
    {
     "data": {
      "text/plain": [
       "age_group\n",
       "25-34    67066968\n",
       "Name: spend, dtype: int64"
      ]
     },
     "execution_count": 105,
     "metadata": {},
     "output_type": "execute_result"
    }
   ],
   "source": [
    "#Highst spending capacity age group in female\n",
    "female_spending.groupby(['age_group'])['spend'].sum().sort_values(ascending=False).head(1)"
   ]
  },
  {
   "cell_type": "markdown",
   "id": "6aa71806-0fca-4790-afc8-24fa8489db00",
   "metadata": {},
   "source": [
    "<h3>Both genders in the 25-34 age group have the highest earning capacity, while the lowest earning capacity varies, with males aged 21-24 and females aged 45 and above. Same trend can be seen in average income also</h3>"
   ]
  },
  {
   "cell_type": "code",
   "execution_count": 106,
   "id": "9651a0b8-8162-43fc-9556-9a3b5a5b9cb2",
   "metadata": {},
   "outputs": [
    {
     "data": {
      "text/html": [
       "<div>\n",
       "<style scoped>\n",
       "    .dataframe tbody tr th:only-of-type {\n",
       "        vertical-align: middle;\n",
       "    }\n",
       "\n",
       "    .dataframe tbody tr th {\n",
       "        vertical-align: top;\n",
       "    }\n",
       "\n",
       "    .dataframe thead th {\n",
       "        text-align: right;\n",
       "    }\n",
       "</style>\n",
       "<table border=\"1\" class=\"dataframe\">\n",
       "  <thead>\n",
       "    <tr style=\"text-align: right;\">\n",
       "      <th></th>\n",
       "      <th>customer_id</th>\n",
       "      <th>age_group</th>\n",
       "      <th>city</th>\n",
       "      <th>occupation</th>\n",
       "      <th>gender</th>\n",
       "      <th>marital status</th>\n",
       "      <th>avg_income</th>\n",
       "      <th>month</th>\n",
       "      <th>category</th>\n",
       "      <th>payment_type</th>\n",
       "      <th>spend</th>\n",
       "    </tr>\n",
       "  </thead>\n",
       "  <tbody>\n",
       "    <tr>\n",
       "      <th>0</th>\n",
       "      <td>ATQCUS1825</td>\n",
       "      <td>45+</td>\n",
       "      <td>Bengaluru</td>\n",
       "      <td>Salaried IT Employees</td>\n",
       "      <td>Male</td>\n",
       "      <td>Married</td>\n",
       "      <td>73523</td>\n",
       "      <td>May</td>\n",
       "      <td>Electronics</td>\n",
       "      <td>Net Banking</td>\n",
       "      <td>405</td>\n",
       "    </tr>\n",
       "    <tr>\n",
       "      <th>1</th>\n",
       "      <td>ATQCUS1825</td>\n",
       "      <td>45+</td>\n",
       "      <td>Bengaluru</td>\n",
       "      <td>Salaried IT Employees</td>\n",
       "      <td>Male</td>\n",
       "      <td>Married</td>\n",
       "      <td>73523</td>\n",
       "      <td>May</td>\n",
       "      <td>Groceries</td>\n",
       "      <td>Debit Card</td>\n",
       "      <td>1096</td>\n",
       "    </tr>\n",
       "    <tr>\n",
       "      <th>2</th>\n",
       "      <td>ATQCUS1825</td>\n",
       "      <td>45+</td>\n",
       "      <td>Bengaluru</td>\n",
       "      <td>Salaried IT Employees</td>\n",
       "      <td>Male</td>\n",
       "      <td>Married</td>\n",
       "      <td>73523</td>\n",
       "      <td>June</td>\n",
       "      <td>Bills</td>\n",
       "      <td>Credit Card</td>\n",
       "      <td>2765</td>\n",
       "    </tr>\n",
       "    <tr>\n",
       "      <th>3</th>\n",
       "      <td>ATQCUS1825</td>\n",
       "      <td>45+</td>\n",
       "      <td>Bengaluru</td>\n",
       "      <td>Salaried IT Employees</td>\n",
       "      <td>Male</td>\n",
       "      <td>Married</td>\n",
       "      <td>73523</td>\n",
       "      <td>September</td>\n",
       "      <td>Apparel</td>\n",
       "      <td>Debit Card</td>\n",
       "      <td>363</td>\n",
       "    </tr>\n",
       "    <tr>\n",
       "      <th>4</th>\n",
       "      <td>ATQCUS1825</td>\n",
       "      <td>45+</td>\n",
       "      <td>Bengaluru</td>\n",
       "      <td>Salaried IT Employees</td>\n",
       "      <td>Male</td>\n",
       "      <td>Married</td>\n",
       "      <td>73523</td>\n",
       "      <td>May</td>\n",
       "      <td>Food</td>\n",
       "      <td>Debit Card</td>\n",
       "      <td>334</td>\n",
       "    </tr>\n",
       "    <tr>\n",
       "      <th>...</th>\n",
       "      <td>...</td>\n",
       "      <td>...</td>\n",
       "      <td>...</td>\n",
       "      <td>...</td>\n",
       "      <td>...</td>\n",
       "      <td>...</td>\n",
       "      <td>...</td>\n",
       "      <td>...</td>\n",
       "      <td>...</td>\n",
       "      <td>...</td>\n",
       "      <td>...</td>\n",
       "    </tr>\n",
       "    <tr>\n",
       "      <th>863995</th>\n",
       "      <td>ATQCUS3477</td>\n",
       "      <td>25-34</td>\n",
       "      <td>Mumbai</td>\n",
       "      <td>Business Owners</td>\n",
       "      <td>Male</td>\n",
       "      <td>Single</td>\n",
       "      <td>73541</td>\n",
       "      <td>May</td>\n",
       "      <td>Bills</td>\n",
       "      <td>Net Banking</td>\n",
       "      <td>548</td>\n",
       "    </tr>\n",
       "    <tr>\n",
       "      <th>863996</th>\n",
       "      <td>ATQCUS3477</td>\n",
       "      <td>25-34</td>\n",
       "      <td>Mumbai</td>\n",
       "      <td>Business Owners</td>\n",
       "      <td>Male</td>\n",
       "      <td>Single</td>\n",
       "      <td>73541</td>\n",
       "      <td>October</td>\n",
       "      <td>Apparel</td>\n",
       "      <td>UPI</td>\n",
       "      <td>174</td>\n",
       "    </tr>\n",
       "    <tr>\n",
       "      <th>863997</th>\n",
       "      <td>ATQCUS3477</td>\n",
       "      <td>25-34</td>\n",
       "      <td>Mumbai</td>\n",
       "      <td>Business Owners</td>\n",
       "      <td>Male</td>\n",
       "      <td>Single</td>\n",
       "      <td>73541</td>\n",
       "      <td>September</td>\n",
       "      <td>Food</td>\n",
       "      <td>Debit Card</td>\n",
       "      <td>346</td>\n",
       "    </tr>\n",
       "    <tr>\n",
       "      <th>863998</th>\n",
       "      <td>ATQCUS3477</td>\n",
       "      <td>25-34</td>\n",
       "      <td>Mumbai</td>\n",
       "      <td>Business Owners</td>\n",
       "      <td>Male</td>\n",
       "      <td>Single</td>\n",
       "      <td>73541</td>\n",
       "      <td>June</td>\n",
       "      <td>Apparel</td>\n",
       "      <td>Net Banking</td>\n",
       "      <td>54</td>\n",
       "    </tr>\n",
       "    <tr>\n",
       "      <th>863999</th>\n",
       "      <td>ATQCUS3477</td>\n",
       "      <td>25-34</td>\n",
       "      <td>Mumbai</td>\n",
       "      <td>Business Owners</td>\n",
       "      <td>Male</td>\n",
       "      <td>Single</td>\n",
       "      <td>73541</td>\n",
       "      <td>September</td>\n",
       "      <td>Health &amp; Wellness</td>\n",
       "      <td>Credit Card</td>\n",
       "      <td>1155</td>\n",
       "    </tr>\n",
       "  </tbody>\n",
       "</table>\n",
       "<p>864000 rows × 11 columns</p>\n",
       "</div>"
      ],
      "text/plain": [
       "       customer_id age_group       city             occupation gender  \\\n",
       "0       ATQCUS1825       45+  Bengaluru  Salaried IT Employees   Male   \n",
       "1       ATQCUS1825       45+  Bengaluru  Salaried IT Employees   Male   \n",
       "2       ATQCUS1825       45+  Bengaluru  Salaried IT Employees   Male   \n",
       "3       ATQCUS1825       45+  Bengaluru  Salaried IT Employees   Male   \n",
       "4       ATQCUS1825       45+  Bengaluru  Salaried IT Employees   Male   \n",
       "...            ...       ...        ...                    ...    ...   \n",
       "863995  ATQCUS3477     25-34     Mumbai        Business Owners   Male   \n",
       "863996  ATQCUS3477     25-34     Mumbai        Business Owners   Male   \n",
       "863997  ATQCUS3477     25-34     Mumbai        Business Owners   Male   \n",
       "863998  ATQCUS3477     25-34     Mumbai        Business Owners   Male   \n",
       "863999  ATQCUS3477     25-34     Mumbai        Business Owners   Male   \n",
       "\n",
       "       marital status  avg_income      month           category payment_type  \\\n",
       "0             Married       73523        May        Electronics  Net Banking   \n",
       "1             Married       73523        May          Groceries   Debit Card   \n",
       "2             Married       73523       June              Bills  Credit Card   \n",
       "3             Married       73523  September            Apparel   Debit Card   \n",
       "4             Married       73523        May               Food   Debit Card   \n",
       "...               ...         ...        ...                ...          ...   \n",
       "863995         Single       73541        May              Bills  Net Banking   \n",
       "863996         Single       73541    October            Apparel          UPI   \n",
       "863997         Single       73541  September               Food   Debit Card   \n",
       "863998         Single       73541       June            Apparel  Net Banking   \n",
       "863999         Single       73541  September  Health & Wellness  Credit Card   \n",
       "\n",
       "        spend  \n",
       "0         405  \n",
       "1        1096  \n",
       "2        2765  \n",
       "3         363  \n",
       "4         334  \n",
       "...       ...  \n",
       "863995    548  \n",
       "863996    174  \n",
       "863997    346  \n",
       "863998     54  \n",
       "863999   1155  \n",
       "\n",
       "[864000 rows x 11 columns]"
      ]
     },
     "execution_count": 106,
     "metadata": {},
     "output_type": "execute_result"
    }
   ],
   "source": [
    "cust_spend"
   ]
  },
  {
   "cell_type": "code",
   "execution_count": 111,
   "id": "73836432-5bec-4849-a630-00dfeac5d0c5",
   "metadata": {},
   "outputs": [
    {
     "data": {
      "text/html": [
       "<div>\n",
       "<style scoped>\n",
       "    .dataframe tbody tr th:only-of-type {\n",
       "        vertical-align: middle;\n",
       "    }\n",
       "\n",
       "    .dataframe tbody tr th {\n",
       "        vertical-align: top;\n",
       "    }\n",
       "\n",
       "    .dataframe thead th {\n",
       "        text-align: right;\n",
       "    }\n",
       "</style>\n",
       "<table border=\"1\" class=\"dataframe\">\n",
       "  <thead>\n",
       "    <tr style=\"text-align: right;\">\n",
       "      <th></th>\n",
       "      <th>month</th>\n",
       "      <th>spend</th>\n",
       "    </tr>\n",
       "  </thead>\n",
       "  <tbody>\n",
       "    <tr>\n",
       "      <th>5</th>\n",
       "      <td>September</td>\n",
       "      <td>115929577</td>\n",
       "    </tr>\n",
       "    <tr>\n",
       "      <th>0</th>\n",
       "      <td>August</td>\n",
       "      <td>100859350</td>\n",
       "    </tr>\n",
       "    <tr>\n",
       "      <th>4</th>\n",
       "      <td>October</td>\n",
       "      <td>86026137</td>\n",
       "    </tr>\n",
       "    <tr>\n",
       "      <th>1</th>\n",
       "      <td>July</td>\n",
       "      <td>80624751</td>\n",
       "    </tr>\n",
       "    <tr>\n",
       "      <th>2</th>\n",
       "      <td>June</td>\n",
       "      <td>79318104</td>\n",
       "    </tr>\n",
       "    <tr>\n",
       "      <th>3</th>\n",
       "      <td>May</td>\n",
       "      <td>68139836</td>\n",
       "    </tr>\n",
       "  </tbody>\n",
       "</table>\n",
       "</div>"
      ],
      "text/plain": [
       "       month      spend\n",
       "5  September  115929577\n",
       "0     August  100859350\n",
       "4    October   86026137\n",
       "1       July   80624751\n",
       "2       June   79318104\n",
       "3        May   68139836"
      ]
     },
     "execution_count": 111,
     "metadata": {},
     "output_type": "execute_result"
    }
   ],
   "source": [
    "#Highest spending month for All customers\n",
    "cust_spend.groupby(['month'],as_index=False)['spend'].sum().sort_values(by='spend',ascending=False)"
   ]
  },
  {
   "cell_type": "code",
   "execution_count": 112,
   "id": "8cfe1e3b-5e81-42be-bfeb-05d47e456a7b",
   "metadata": {},
   "outputs": [
    {
     "data": {
      "text/html": [
       "<div>\n",
       "<style scoped>\n",
       "    .dataframe tbody tr th:only-of-type {\n",
       "        vertical-align: middle;\n",
       "    }\n",
       "\n",
       "    .dataframe tbody tr th {\n",
       "        vertical-align: top;\n",
       "    }\n",
       "\n",
       "    .dataframe thead th {\n",
       "        text-align: right;\n",
       "    }\n",
       "</style>\n",
       "<table border=\"1\" class=\"dataframe\">\n",
       "  <thead>\n",
       "    <tr style=\"text-align: right;\">\n",
       "      <th></th>\n",
       "      <th>month</th>\n",
       "      <th>spend</th>\n",
       "    </tr>\n",
       "  </thead>\n",
       "  <tbody>\n",
       "    <tr>\n",
       "      <th>5</th>\n",
       "      <td>September</td>\n",
       "      <td>37824060</td>\n",
       "    </tr>\n",
       "    <tr>\n",
       "      <th>0</th>\n",
       "      <td>August</td>\n",
       "      <td>33013569</td>\n",
       "    </tr>\n",
       "    <tr>\n",
       "      <th>4</th>\n",
       "      <td>October</td>\n",
       "      <td>28258227</td>\n",
       "    </tr>\n",
       "    <tr>\n",
       "      <th>1</th>\n",
       "      <td>July</td>\n",
       "      <td>26406215</td>\n",
       "    </tr>\n",
       "    <tr>\n",
       "      <th>2</th>\n",
       "      <td>June</td>\n",
       "      <td>25859631</td>\n",
       "    </tr>\n",
       "    <tr>\n",
       "      <th>3</th>\n",
       "      <td>May</td>\n",
       "      <td>22398016</td>\n",
       "    </tr>\n",
       "  </tbody>\n",
       "</table>\n",
       "</div>"
      ],
      "text/plain": [
       "       month     spend\n",
       "5  September  37824060\n",
       "0     August  33013569\n",
       "4    October  28258227\n",
       "1       July  26406215\n",
       "2       June  25859631\n",
       "3        May  22398016"
      ]
     },
     "execution_count": 112,
     "metadata": {},
     "output_type": "execute_result"
    }
   ],
   "source": [
    "#spending capacity by month for female\n",
    "female_spending.groupby(['month'],as_index=False)['spend'].sum().sort_values(by='spend',ascending=False)"
   ]
  },
  {
   "cell_type": "code",
   "execution_count": 113,
   "id": "eba89fec-789f-49fb-ad70-b508373cea01",
   "metadata": {},
   "outputs": [
    {
     "data": {
      "text/html": [
       "<div>\n",
       "<style scoped>\n",
       "    .dataframe tbody tr th:only-of-type {\n",
       "        vertical-align: middle;\n",
       "    }\n",
       "\n",
       "    .dataframe tbody tr th {\n",
       "        vertical-align: top;\n",
       "    }\n",
       "\n",
       "    .dataframe thead th {\n",
       "        text-align: right;\n",
       "    }\n",
       "</style>\n",
       "<table border=\"1\" class=\"dataframe\">\n",
       "  <thead>\n",
       "    <tr style=\"text-align: right;\">\n",
       "      <th></th>\n",
       "      <th>month</th>\n",
       "      <th>spend</th>\n",
       "    </tr>\n",
       "  </thead>\n",
       "  <tbody>\n",
       "    <tr>\n",
       "      <th>5</th>\n",
       "      <td>September</td>\n",
       "      <td>78105517</td>\n",
       "    </tr>\n",
       "    <tr>\n",
       "      <th>0</th>\n",
       "      <td>August</td>\n",
       "      <td>67845781</td>\n",
       "    </tr>\n",
       "    <tr>\n",
       "      <th>4</th>\n",
       "      <td>October</td>\n",
       "      <td>57767910</td>\n",
       "    </tr>\n",
       "    <tr>\n",
       "      <th>1</th>\n",
       "      <td>July</td>\n",
       "      <td>54218536</td>\n",
       "    </tr>\n",
       "    <tr>\n",
       "      <th>2</th>\n",
       "      <td>June</td>\n",
       "      <td>53458473</td>\n",
       "    </tr>\n",
       "    <tr>\n",
       "      <th>3</th>\n",
       "      <td>May</td>\n",
       "      <td>45741820</td>\n",
       "    </tr>\n",
       "  </tbody>\n",
       "</table>\n",
       "</div>"
      ],
      "text/plain": [
       "       month     spend\n",
       "5  September  78105517\n",
       "0     August  67845781\n",
       "4    October  57767910\n",
       "1       July  54218536\n",
       "2       June  53458473\n",
       "3        May  45741820"
      ]
     },
     "execution_count": 113,
     "metadata": {},
     "output_type": "execute_result"
    }
   ],
   "source": [
    "#Highest spending month for male\n",
    "male_spending.groupby(['month'],as_index=False)['spend'].sum().sort_values(by='spend',ascending=False)"
   ]
  },
  {
   "cell_type": "markdown",
   "id": "ec3cd54e-70f2-4117-8354-83bb1d146d79",
   "metadata": {},
   "source": [
    "<h3>Both genders exhibit <b>peak</b> spending in <b>September</b>, reflecting increased expenditures during this month. \n",
    "</h3>"
   ]
  },
  {
   "cell_type": "code",
   "execution_count": 290,
   "id": "50aed1c4-1499-4980-8d79-70fdd802294e",
   "metadata": {},
   "outputs": [
    {
     "data": {
      "text/html": [
       "<div>\n",
       "<style scoped>\n",
       "    .dataframe tbody tr th:only-of-type {\n",
       "        vertical-align: middle;\n",
       "    }\n",
       "\n",
       "    .dataframe tbody tr th {\n",
       "        vertical-align: top;\n",
       "    }\n",
       "\n",
       "    .dataframe thead th {\n",
       "        text-align: right;\n",
       "    }\n",
       "</style>\n",
       "<table border=\"1\" class=\"dataframe\">\n",
       "  <thead>\n",
       "    <tr style=\"text-align: right;\">\n",
       "      <th></th>\n",
       "      <th>month</th>\n",
       "      <th>age_group</th>\n",
       "      <th>gender</th>\n",
       "      <th>occupation</th>\n",
       "      <th>category</th>\n",
       "      <th>spend</th>\n",
       "    </tr>\n",
       "  </thead>\n",
       "  <tbody>\n",
       "    <tr>\n",
       "      <th>2053</th>\n",
       "      <td>September</td>\n",
       "      <td>35-45</td>\n",
       "      <td>Male</td>\n",
       "      <td>Salaried IT Employees</td>\n",
       "      <td>Bills</td>\n",
       "      <td>3023912</td>\n",
       "    </tr>\n",
       "  </tbody>\n",
       "</table>\n",
       "</div>"
      ],
      "text/plain": [
       "          month age_group gender             occupation category    spend\n",
       "2053  September     35-45   Male  Salaried IT Employees    Bills  3023912"
      ]
     },
     "execution_count": 290,
     "metadata": {},
     "output_type": "execute_result"
    }
   ],
   "source": [
    "#Top 1 highest spending capacity age_group by month and gender \n",
    "cust_spend_month=cust_spend.groupby(['month','age_group','gender','occupation','category'],as_index=False)['spend'].sum().sort_values(by=['month','spend'],ascending=False)\n",
    "#cust_spend_month.groupby(['month']).head(1)\n",
    "cust_spend_month.head(1)"
   ]
  },
  {
   "cell_type": "code",
   "execution_count": 254,
   "id": "6f82a269-0a13-441f-90eb-2834177dca47",
   "metadata": {},
   "outputs": [
    {
     "data": {
      "text/html": [
       "<div>\n",
       "<style scoped>\n",
       "    .dataframe tbody tr th:only-of-type {\n",
       "        vertical-align: middle;\n",
       "    }\n",
       "\n",
       "    .dataframe tbody tr th {\n",
       "        vertical-align: top;\n",
       "    }\n",
       "\n",
       "    .dataframe thead th {\n",
       "        text-align: right;\n",
       "    }\n",
       "</style>\n",
       "<table border=\"1\" class=\"dataframe\">\n",
       "  <thead>\n",
       "    <tr style=\"text-align: right;\">\n",
       "      <th></th>\n",
       "      <th>month</th>\n",
       "      <th>age_group</th>\n",
       "      <th>gender</th>\n",
       "      <th>occupation</th>\n",
       "      <th>spend</th>\n",
       "    </tr>\n",
       "  </thead>\n",
       "  <tbody>\n",
       "    <tr>\n",
       "      <th>122</th>\n",
       "      <td>May</td>\n",
       "      <td>21-24</td>\n",
       "      <td>Female</td>\n",
       "      <td>Government Employees</td>\n",
       "      <td>176413</td>\n",
       "    </tr>\n",
       "  </tbody>\n",
       "</table>\n",
       "</div>"
      ],
      "text/plain": [
       "    month age_group  gender            occupation   spend\n",
       "122   May     21-24  Female  Government Employees  176413"
      ]
     },
     "execution_count": 254,
     "metadata": {},
     "output_type": "execute_result"
    }
   ],
   "source": [
    "#Lowest spending done by age_group,month,occupation and gender \n",
    "cust_spend_month=cust_spend.groupby(['month','age_group','gender','occupation','category'],as_index=False)['spend'].sum().sort_values(by='spend',ascending=False)\n",
    "cust_spend_month.tail(1)\n"
   ]
  },
  {
   "cell_type": "code",
   "execution_count": 291,
   "id": "21d29243-f21c-4688-972b-7c5be45554cc",
   "metadata": {},
   "outputs": [
    {
     "data": {
      "text/plain": [
       "age_group\n",
       "25-34    203357184\n",
       "35-45    190639828\n",
       "21-24     68523077\n",
       "45+       68377666\n",
       "Name: spend, dtype: int64"
      ]
     },
     "execution_count": 291,
     "metadata": {},
     "output_type": "execute_result"
    }
   ],
   "source": [
    "cust_spend.groupby(['age_group'])['spend'].sum().sort_values(ascending=False)"
   ]
  },
  {
   "cell_type": "markdown",
   "id": "31039b43-aebe-48ec-b312-64088d262d9d",
   "metadata": {},
   "source": [
    "<h3><b>Highest</b> amount spend in month of <b>september</b> by Salaried <b>IT male </b>employee of age group<b> 35-45</b>, whereas <b>Lowest</b> amount spend in month of <b>may</b> by <b>female Government Employees</b> of age group <b>21-24</b> </h3>"
   ]
  },
  {
   "cell_type": "markdown",
   "id": "22498243-e652-483e-b4a5-7d1ae162d7e1",
   "metadata": {},
   "source": [
    "<h3><b>Conclusion</b></h3>\n",
    "<h3><b>Highest</b> credit card customers are in <b>Male</b> category from  <b>Mumbai</b>, working in <b>IT</b> from age group <b>35-45</b>, and they spend highest in month of <b>september</b> for <b>BILLs</b>. </h3>"
   ]
  },
  {
   "cell_type": "code",
   "execution_count": null,
   "id": "064d55c2-fc41-4615-ac2e-41989abdfdee",
   "metadata": {},
   "outputs": [],
   "source": []
  }
 ],
 "metadata": {
  "kernelspec": {
   "display_name": "Python 3 (ipykernel)",
   "language": "python",
   "name": "python3"
  },
  "language_info": {
   "codemirror_mode": {
    "name": "ipython",
    "version": 3
   },
   "file_extension": ".py",
   "mimetype": "text/x-python",
   "name": "python",
   "nbconvert_exporter": "python",
   "pygments_lexer": "ipython3",
   "version": "3.11.7"
  }
 },
 "nbformat": 4,
 "nbformat_minor": 5
}
